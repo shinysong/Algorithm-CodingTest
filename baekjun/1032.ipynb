{
 "cells": [
  {
   "cell_type": "markdown",
   "metadata": {},
   "source": [
    "# 명령 프롬프트\n",
    "\n",
    "### 문제\n",
    "시작 -> 실행 -> cmd를 쳐보자. 검정 화면이 눈에 보인다. 여기서 dir이라고 치면 그 디렉토리에 있는 서브디렉토리와 파일이 모두 나온다. 이때 원하는 파일을 찾으려면 다음과 같이 하면 된다.\n",
    "\n",
    "dir *.exe라고 치면 확장자가 exe인 파일이 다 나온다. \"dir 패턴\"과 같이 치면 그 패턴에 맞는 파일만 검색 결과로 나온다. 예를 들어, dir a?b.exe라고 검색하면 파일명의 첫 번째 글자가 a이고, 세 번째 글자가 b이고, 확장자가 exe인 것이 모두 나온다. 이때 두 번째 문자는 아무거나 나와도 된다. 예를 들어, acb.exe, aab.exe, apb.exe가 나온다.\n",
    "\n",
    "이 문제는 검색 결과가 먼저 주어졌을 때, 패턴으로 뭘 쳐야 그 결과가 나오는지를 출력하는 문제이다. 패턴에는 알파벳과 \".\" 그리고 \"?\"만 넣을 수 있다. 가능하면 ?을 적게 써야 한다. 그 디렉토리에는 검색 결과에 나온 파일만 있다고 가정하고, 파일 이름의 길이는 모두 같다.\n",
    "\n",
    "### 입력\n",
    "첫째 줄에 파일 이름의 개수 N이 주어진다. 둘째 줄부터 N개의 줄에는 파일 이름이 주어진다. N은 50보다 작거나 같은 자연수이고 파일 이름의 길이는 모두 같고 길이는 최대 50이다. 파일이름은 알파벳 소문자와 '.' 로만 이루어져 있다.\n",
    "\n",
    "### 출력\n",
    "첫째 줄에 패턴을 출력하면 된다."
   ]
  },
  {
   "cell_type": "code",
   "execution_count": null,
   "metadata": {},
   "outputs": [
    {
     "name": "stdout",
     "output_type": "stream",
     "text": [
      "['a', 'a', 'b', 'b']\n",
      "모든 문자열의 길이가 같습니다.\n",
      "['?']\n",
      "?\n"
     ]
    }
   ],
   "source": [
    "# N은 파일의 개수, 둘째줄은 파일 이름, N은 50보다 작거나 같은 자연수,  파일이름의 길이는 같음. 파일이름의 규칙을 파악해서 반환해야함\n",
    "N = int(input())\n",
    "if N <= 50:\n",
    "    my_input = [ input() for _ in range(N)]\n",
    "    print(my_input)\n",
    "\n",
    "# 파일 이름이 같은지 검사해야하나? 일단 넘어가자\n",
    "# my_input을 검사 or regex 사용하는 방법이 있겠지..?\n",
    "# my_input의 배열에 들어온 각 요소를 비교하는 방법. 비교해서 같으면 result 배열에 넣고, 다르면 ? 넣기\n",
    "\n",
    "# 배열의 각 요소가 길이가 모두 같은지 비교하는 코드 map, lambda를 써보기\n",
    "len_list = len(set(list(map(lambda x : len(x), my_input))))\n",
    "if len_list == 1:\n",
    "    #print('모든 문자열의 길이가 같습니다.')\n",
    "    str_len = len(my_input[0])\n",
    "    \n",
    "    result_list = []\n",
    "    for i in range(str_len):\n",
    "        tmp = list(map(lambda x: x[i], my_input))\n",
    "        if len(set(tmp)) == 1:\n",
    "            result_list.append(tmp[0])\n",
    "        else:\n",
    "            result_list.append('?')\n",
    "    #print(result_list)\n",
    "    result = ''.join(result_list)\n",
    "    print(result)"
   ]
  },
  {
   "cell_type": "code",
   "execution_count": null,
   "metadata": {},
   "outputs": [],
   "source": [
    "# 백준 제출용\n",
    "N = int(input())\n",
    "if N <= 50:\n",
    "    my_input = [ input() for _ in range(N)]\n",
    "\n",
    "    len_list = len(set(list(map(lambda x : len(x), my_input))))\n",
    "    if len_list == 1:\n",
    "        str_len = len(my_input[0])\n",
    "        \n",
    "        result_list = []\n",
    "        for i in range(str_len):\n",
    "            tmp = list(map(lambda x: x[i], my_input))\n",
    "            if len(set(tmp)) == 1:\n",
    "                result_list.append(tmp[0])\n",
    "            else:\n",
    "                result_list.append('?')\n",
    "        result = ''.join(result_list)\n",
    "        print(result)"
   ]
  },
  {
   "cell_type": "code",
   "execution_count": 21,
   "metadata": {},
   "outputs": [
    {
     "name": "stdout",
     "output_type": "stream",
     "text": [
      "a\n",
      "b\n",
      "d\n",
      "a??\n"
     ]
    }
   ],
   "source": [
    "# chatGPT를 활용하여 효율적으로 개선한 코드\n",
    "N = int(input())\n",
    "files = [input() for _ in range(N)]\n",
    "\n",
    "# 파일 이름의 길이는 모두 같다고 보장됨\n",
    "file_len = len(files[0])\n",
    "pattern = []\n",
    "\n",
    "for i in range(file_len):\n",
    "    char = files[0][i]\n",
    "    print(char)\n",
    "    for j in range(1, N):\n",
    "        if files[j][i] != char:\n",
    "            char = '?'\n",
    "            break\n",
    "    pattern.append(char)\n",
    "\n",
    "print(''.join(pattern))"
   ]
  },
  {
   "cell_type": "code",
   "execution_count": null,
   "metadata": {},
   "outputs": [],
   "source": []
  }
 ],
 "metadata": {
  "kernelspec": {
   "display_name": "Python 3",
   "language": "python",
   "name": "python3"
  },
  "language_info": {
   "codemirror_mode": {
    "name": "ipython",
    "version": 3
   },
   "file_extension": ".py",
   "mimetype": "text/x-python",
   "name": "python",
   "nbconvert_exporter": "python",
   "pygments_lexer": "ipython3",
   "version": "3.10.10"
  }
 },
 "nbformat": 4,
 "nbformat_minor": 2
}
