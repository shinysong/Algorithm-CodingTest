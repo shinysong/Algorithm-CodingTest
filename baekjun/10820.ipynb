{
 "cells": [
  {
   "cell_type": "markdown",
   "metadata": {},
   "source": [
    "# 문자열 분석 백준 10820\n",
    "- https://www.acmicpc.net/problem/10820\n",
    "\n",
    "### 문제\n",
    "문자열 N개가 주어진다. 이때, 문자열에 포함되어 있는 소문자, 대문자, 숫자, 공백의 개수를 구하는 프로그램을 작성하시오.\n",
    "\n",
    "각 문자열은 알파벳 소문자, 대문자, 숫자, 공백으로만 이루어져 있다.\n",
    "\n",
    "### 입력\n",
    "첫째 줄부터 N번째 줄까지 문자열이 주어진다. (1 ≤ N ≤ 100) 문자열의 길이는 100을 넘지 않는다.\n",
    "\n",
    "### 출력\n",
    "첫째 줄부터 N번째 줄까지 각각의 문자열에 대해서 소문자, 대문자, 숫자, 공백의 개수를 공백으로 구분해 출력한다."
   ]
  },
  {
   "cell_type": "code",
   "execution_count": null,
   "metadata": {},
   "outputs": [
    {
     "name": "stdout",
     "output_type": "stream",
     "text": [
      "This is String\n",
      "10 2 0 2\n",
      "SPACE    1    SPACE\n",
      "0 10 1 8\n",
      " S a M p L e I n P u T \n",
      "5 6 0 12\n",
      "0L1A2S3T4L5I6N7E8\n",
      "0 8 9 0\n"
     ]
    }
   ],
   "source": [
    "# 소문자, 대문자 판별 함수가 기억나지 않아 검색함. isupper(), islower(), 공백은..따로 판별하는 게 있는지 모르겠음\n",
    "N = int(input())\n",
    "my_input = [ input() for _ in range(N)]\n",
    "\n",
    "def str_len(text):\n",
    "    lower_cnt, upper_cnt, int_cnt, blank_cnt = 0,0,0,0\n",
    "    for s in text:\n",
    "        try:\n",
    "            s = int(s)\n",
    "            int_cnt += 1\n",
    "        except:\n",
    "            try:\n",
    "                if s == ' ':\n",
    "                    blank_cnt += 1\n",
    "                else:\n",
    "                    if s.isupper():\n",
    "                        upper_cnt += 1\n",
    "                    else:\n",
    "                        lower_cnt += 1            \n",
    "            except:\n",
    "                continue\n",
    "    print(lower_cnt, upper_cnt, int_cnt, blank_cnt)\n",
    "\n",
    "for text in my_input:\n",
    "    str_len(text) "
   ]
  },
  {
   "cell_type": "markdown",
   "metadata": {},
   "source": [
    "- 런타임에러가 생깁니다.."
   ]
  },
  {
   "cell_type": "code",
   "execution_count": null,
   "metadata": {},
   "outputs": [],
   "source": [
    "import sys\n",
    "\n",
    "def str_len(text):\n",
    "    lower_cnt, upper_cnt, int_cnt, blank_cnt = 0, 0, 0, 0\n",
    "    for s in text:\n",
    "        if s.islower():\n",
    "            lower_cnt += 1\n",
    "        elif s.isupper():\n",
    "            upper_cnt += 1\n",
    "        elif s.isdigit():\n",
    "            int_cnt += 1\n",
    "        elif s.isspace():\n",
    "            blank_cnt += 1\n",
    "    print(lower_cnt, upper_cnt, int_cnt, blank_cnt)\n",
    "\n",
    "for line in sys.stdin:\n",
    "    str_len(line.rstrip('\\n'))\n"
   ]
  },
  {
   "cell_type": "markdown",
   "metadata": {},
   "source": [
    "- input 입력 처리가 문제였다.."
   ]
  },
  {
   "cell_type": "markdown",
   "metadata": {},
   "source": []
  },
  {
   "cell_type": "code",
   "execution_count": null,
   "metadata": {},
   "outputs": [],
   "source": [
    "import sys\n",
    "\n",
    "input = sys.stdin.readline\n",
    "N = int(input())\n",
    "my_input = [ input() for _ in range(N)]\n",
    "\n",
    "def str_len(text):\n",
    "    lower_cnt, upper_cnt, int_cnt, blank_cnt = 0, 0, 0, 0\n",
    "    for s in text:\n",
    "        if s.islower():\n",
    "            lower_cnt += 1\n",
    "        elif s.isupper():\n",
    "            upper_cnt += 1\n",
    "        elif s.isdigit():\n",
    "            int_cnt += 1\n",
    "        elif s.isspace():\n",
    "            blank_cnt += 1\n",
    "    print(lower_cnt, upper_cnt, int_cnt, blank_cnt)\n",
    "\n",
    "for text in my_input:\n",
    "    str_len(text) \n"
   ]
  },
  {
   "cell_type": "markdown",
   "metadata": {},
   "source": [
    "## ✅ `input()` vs `sys.stdin.readline()` vs `sys.stdin` 전체 순회\n",
    "\n",
    "| 방법 | 특징 | 언제 사용? | 주의사항 |\n",
    "|------|------|------------|----------|\n",
    "| `input()` | 한 줄씩 입력 | 줄 수가 명확히 정해진 문제에서 | 백준에서는 EOF 시 `EOFError` 발생 |\n",
    "| `sys.stdin.readline()` | 한 줄씩 입력, `input()`보다 빠름 | **줄 수가 정해져 있는 문제** + **입력이 많을 때** | 마지막에 개행 문자 `\\n` 포함됨 |\n",
    "| `for line in sys.stdin:` | EOF까지 반복 | **줄 수가 정해지지 않은 문제** (e.g. 10820번) | `line` 끝에 `\\n` 있음, 필요시 `.rstrip()` |\n",
    "\n",
    "---\n",
    "\n",
    "## 💡 언제 무엇을 쓰면 좋을까?\n",
    "\n",
    "### ✅ 1. 줄 수가 주어지는 경우\n",
    "```python\n",
    "import sys\n",
    "\n",
    "N = int(sys.stdin.readline())\n",
    "for _ in range(N):\n",
    "    line = sys.stdin.readline().rstrip('\\n')\n",
    "    # 처리\n",
    "```\n",
    "\n",
    "### ✅ 2. 줄 수가 정해지지 않은 경우 (EOF까지 반복)\n",
    "```python\n",
    "import sys\n",
    "\n",
    "for line in sys.stdin:\n",
    "    line = line.rstrip('\\n')\n",
    "    # 처리\n",
    "```\n",
    "\n",
    "---\n",
    "\n",
    "## 🚫 피해야 할 실수\n",
    "- `input()`을 반복문에 썼는데 EOF에서 끝나지 않으면 `EOFError`가 나요.\n",
    "- `sys.stdin.readline()`을 쓸 때 `.rstrip()`을 안 하면 `\\n`이 남아서 오답이 될 수 있어요.\n",
    "\n",
    "---\n",
    "\n",
    "## 📌 결론: 재발 방지 요약\n",
    "\n",
    "> 🔒 \"런타임 에러를 방지하고 싶다면, 무조건 `sys.stdin.readline()` 또는 `for line in sys.stdin`을 기본값으로 생각하라!\"\n",
    "\n",
    "- 입출력이 **많거나** 줄 수가 **정해져 있지 않으면** → `for line in sys.stdin`\n",
    "- 줄 수가 **정해져 있으면** → `sys.stdin.readline()` + `.rstrip()`"
   ]
  },
  {
   "cell_type": "markdown",
   "metadata": {},
   "source": []
  }
 ],
 "metadata": {
  "kernelspec": {
   "display_name": "Python 3",
   "language": "python",
   "name": "python3"
  },
  "language_info": {
   "codemirror_mode": {
    "name": "ipython",
    "version": 3
   },
   "file_extension": ".py",
   "mimetype": "text/x-python",
   "name": "python",
   "nbconvert_exporter": "python",
   "pygments_lexer": "ipython3",
   "version": "3.10.10"
  }
 },
 "nbformat": 4,
 "nbformat_minor": 2
}
