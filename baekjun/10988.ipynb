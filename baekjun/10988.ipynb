{
 "cells": [
  {
   "cell_type": "markdown",
   "metadata": {},
   "source": [
    "# 팰린드롬 백준 10988\n",
    "- https://www.acmicpc.net/problem/10988\n",
    "\n",
    "### 문제\n",
    "알파벳 소문자로만 이루어진 단어가 주어진다. 이때, 이 단어가 팰린드롬인지 아닌지 확인하는 프로그램을 작성하시오.\n",
    "\n",
    "팰린드롬이란 앞으로 읽을 때와 거꾸로 읽을 때 똑같은 단어를 말한다. \n",
    "\n",
    "level, noon은 팰린드롬이고, baekjoon, online, judge는 팰린드롬이 아니다.\n",
    "\n",
    "### 입력\n",
    "첫째 줄에 단어가 주어진다. 단어의 길이는 1보다 크거나 같고, 100보다 작거나 같으며, 알파벳 소문자로만 이루어져 있다.\n",
    "\n",
    "### 출력\n",
    "첫째 줄에 팰린드롬이면 1, 아니면 0을 출력한다."
   ]
  },
  {
   "cell_type": "code",
   "execution_count": null,
   "metadata": {},
   "outputs": [
    {
     "name": "stdout",
     "output_type": "stream",
     "text": [
      "1\n"
     ]
    }
   ],
   "source": [
    "# 재귀 문제로 푸는 것\n",
    "\n",
    "my_input = str(input())\n",
    "\n",
    "# 첫 문자과 맨 끝 문자를 비교하는 재귀\n",
    "\n",
    "def str_check(text):\n",
    "    if len(text) <= 1: \n",
    "        return 1 # 맞으면 1\n",
    "    \n",
    "    if text[0] == text[-1]:\n",
    "        return str_check(text[1:-1]) # input으로 슬라이스해서 넣는 부분은 다른 사람의 코드를 참고함\n",
    "    else:\n",
    "        return 0 # 아니면 0 \n",
    "\n",
    "print(str_check(my_input))"
   ]
  },
  {
   "cell_type": "markdown",
   "metadata": {},
   "source": [
    "#### reversed 함수\n",
    "- list.reserve() -> 원본이 바뀐다\n",
    "- reversed_list = reserved(list)\n",
    "\n",
    "- reversed 함수를 처음 알게됨"
   ]
  },
  {
   "cell_type": "code",
   "execution_count": null,
   "metadata": {},
   "outputs": [],
   "source": []
  }
 ],
 "metadata": {
  "kernelspec": {
   "display_name": "Python 3",
   "language": "python",
   "name": "python3"
  },
  "language_info": {
   "codemirror_mode": {
    "name": "ipython",
    "version": 3
   },
   "file_extension": ".py",
   "mimetype": "text/x-python",
   "name": "python",
   "nbconvert_exporter": "python",
   "pygments_lexer": "ipython3",
   "version": "3.10.10"
  }
 },
 "nbformat": 4,
 "nbformat_minor": 2
}
