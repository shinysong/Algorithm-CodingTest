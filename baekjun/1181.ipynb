{
 "cells": [
  {
   "cell_type": "markdown",
   "id": "a15ae742",
   "metadata": {},
   "source": [
    "# 단어 정렬 백준 1181\n",
    "##### 문제\n",
    "알파벳 소문자로 이루어진 N개의 단어가 들어오면 아래와 같은 조건에 따라 정렬하는 프로그램을 작성하시오.\n",
    "\n",
    "길이가 짧은 것부터\n",
    "길이가 같으면 사전 순으로\n",
    "단, 중복된 단어는 하나만 남기고 제거해야 한다.\n",
    "\n",
    "##### 입력\n",
    "첫째 줄에 단어의 개수 N이 주어진다. (1 ≤ N ≤ 20,000) 둘째 줄부터 N개의 줄에 걸쳐 알파벳 소문자로 이루어진 단어가 한 줄에 하나씩 주어진다. 주어지는 문자열의 길이는 50을 넘지 않는다.\n",
    "\n",
    "##### 출력\n",
    "조건에 따라 정렬하여 단어들을 출력한다."
   ]
  },
  {
   "cell_type": "markdown",
   "id": "bf2f7f62",
   "metadata": {},
   "source": [
    "- len()으로 각 단어별 길이를 key, value로 만들어준뒤 sort_values의 조건을 2개 주면 되지 않을까? --> 중복은 안되므로 다른 자료형을 사용해야 함\n",
    "- 1차 정렬을 할 때 인덱스를 부여해서 정렬하고, 2차정렬은 인덱스와 알파벳을 기준으로 정렬해보기 \n",
    "- 단어 길이 세는 것은 lambda 함수 사용해보기"
   ]
  },
  {
   "cell_type": "code",
   "execution_count": null,
   "id": "76cd3eea",
   "metadata": {},
   "outputs": [
    {
     "name": "stdout",
     "output_type": "stream",
     "text": [
      "[{'idx': 0, 'word': 'a', 'len': 1}, {'idx': 1, 'word': 'b', 'len': 1}, {'idx': 2, 'word': 'apple', 'len': 5}, {'idx': 3, 'word': 'apple', 'len': 5}, {'idx': 4, 'word': 'abced', 'len': 5}, {'idx': 5, 'word': 'banana', 'len': 6}]\n"
     ]
    }
   ],
   "source": [
    "# N = 13\n",
    "# my_input = [input() for _ in range(N)]\n",
    "\n",
    "my_input = ['a', 'apple', 'apple', 'abced' ,'b', 'banana']\n",
    "my_input.sort(key=lambda x:len(x))\n",
    "result = []\n",
    "for idx, word in enumerate(my_input):\n",
    "    dict_1 = {'idx': idx, 'word': word, 'len': len(word)}\n",
    "    result.append(dict_1)\n",
    "\n",
    "sorted_result = sorted(result, key= lambda x : (x['len'], x['word']))\n",
    "for x in sorted_result:\n",
    "    print(x['word'])"
   ]
  },
  {
   "cell_type": "code",
   "execution_count": null,
   "id": "9ab4fa44",
   "metadata": {},
   "outputs": [],
   "source": [
    "# 테스트용\n",
    "N = int(input())\n",
    "my_input = [input() for _ in range(N)]\n",
    "my_input = set(my_input)\n",
    "result = []\n",
    "for idx, word in enumerate(my_input):\n",
    "    dict_1 = {'idx': idx, 'word': word, 'len': len(word)}\n",
    "    result.append(dict_1)\n",
    "\n",
    "sorted_result = sorted(result, key= lambda x : (x['len'], x['word']))\n",
    "for x in sorted_result:\n",
    "    print(x['word'])"
   ]
  },
  {
   "cell_type": "markdown",
   "id": "3f59280c",
   "metadata": {},
   "source": [
    "- 하..dict 만드는 것 emurate로 GPT에게 도움받음\n",
    "- sort, sorted 함수는 여러 사용법은 구글링으로 검색함\n",
    "- 결과 코드는 맞는데 틀렸다고 채점됨 --> 중복제거를 안해서 수정함"
   ]
  },
  {
   "cell_type": "markdown",
   "id": "c257ceb3",
   "metadata": {},
   "source": [
    "## input vs sys.stdin.read vs sys.stdin.readline\n",
    " \n",
    "- `sys.stdin.read()`는 전체 입력을 **한 번에만** 읽는 방식이라 여러 번 쓰기 어렵지만, **`sys.stdin.readline()`을 사용하면** 여러 번 입력을 받을 수 있습니다 \n",
    "\n",
    "### `sys.stdin.readline()` 방식 (여러 줄 입력 받을 때 선호)\n",
    "\n",
    "```python\n",
    "import sys\n",
    "input = sys.stdin.readline\n",
    "\n",
    "N = int(input())\n",
    "words = set()  # 중복 제거용\n",
    "\n",
    "for _ in range(N):\n",
    "    word = input().strip()  # readline은 줄바꿈(\\n)도 같이 가져오므로 .strip() 필요\n",
    "    words.add(word)\n",
    "\n",
    "sorted_words = sorted(words, key=lambda x: (len(x), x))\n",
    "\n",
    "for word in sorted_words:\n",
    "    print(word)\n",
    "```\n",
    "\n",
    "---\n",
    "\n",
    "### 요약:\n",
    "| 함수               | 설명 |\n",
    "|--------------------|------|\n",
    "| `sys.stdin.read()` | **전체 입력**을 한 번에 읽고 나눠서 처리. 이후 `input()` 못 씀 |\n",
    "| `sys.stdin.readline()` | **한 줄씩 읽음**, 반복해서 사용 가능. `.strip()` 꼭 쓰는 게 안전 |\n",
    "| `input()` (기본)   | 느리지만 간단. **테스트용/작은 입력에 적합** |\n",
    "\n",
    "---\n",
    "\n",
    "### 🤔 언제 어떤 걸 쓰면 좋을까?\n",
    "\n",
    "- **속도 중요 + 입력이 많다 →** `sys.stdin.readline()` 추천!\n",
    "- **전체 입력을 한 번에 받고 후처리 →** `sys.stdin.read()` 추천!\n",
    "- **간단한 문제 →** 그냥 `input()` 써도 무방.\n"
   ]
  },
  {
   "cell_type": "code",
   "execution_count": null,
   "id": "0fda82f3",
   "metadata": {},
   "outputs": [],
   "source": [
    "# 제출용\n",
    "import sys\n",
    "N = int(sys.stdin.readline().strip())\n",
    "my_input = [sys.stdin.readline().strip() for _ in range(N)]\n",
    "my_input = set(my_input)\n",
    "result = []\n",
    "for idx, word in enumerate(my_input):\n",
    "    dict_1 = {'idx': idx, 'word': word, 'len': len(word)}\n",
    "    result.append(dict_1)\n",
    "\n",
    "sorted_result = sorted(result, key= lambda x : (x['len'], x['word']))\n",
    "for x in sorted_result:\n",
    "    print(x['word'])"
   ]
  },
  {
   "cell_type": "markdown",
   "id": "d03eb810",
   "metadata": {},
   "source": [
    "- input을 정의하면 여러번 하는 게 안돼서, 아예 input을 안쓰고 stdin을 사용함 -> 속도개선용으로 테스트해본 결과 input()내장함수를 사용한 것보다 6배 빠름"
   ]
  },
  {
   "cell_type": "markdown",
   "id": "7ac7059c",
   "metadata": {},
   "source": []
  }
 ],
 "metadata": {
  "kernelspec": {
   "display_name": "Python 3",
   "language": "python",
   "name": "python3"
  },
  "language_info": {
   "codemirror_mode": {
    "name": "ipython",
    "version": 3
   },
   "file_extension": ".py",
   "mimetype": "text/x-python",
   "name": "python",
   "nbconvert_exporter": "python",
   "pygments_lexer": "ipython3",
   "version": "3.10.10"
  }
 },
 "nbformat": 4,
 "nbformat_minor": 5
}
