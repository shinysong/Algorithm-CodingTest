{
 "cells": [
  {
   "cell_type": "markdown",
   "metadata": {},
   "source": [
    "# 모음의 개수\n",
    "- 2025-03-25\n",
    "- https://www.acmicpc.net/problem/1264\n",
    "- 영문 문장을 입력받아 모음의 개수를 세는 프로그램을 작성하시오. 모음은 'a', 'e', 'i', 'o', 'u'이며 대문자 또는 소문자이다."
   ]
  },
  {
   "cell_type": "code",
   "execution_count": 23,
   "metadata": {},
   "outputs": [
    {
     "name": "stdout",
     "output_type": "stream",
     "text": [
      "7\n",
      "14\n",
      "9\n"
     ]
    }
   ],
   "source": [
    "sentence = '''\n",
    "How are you today?\n",
    "Quite well, thank you, how about yourself?\n",
    "I live at number twenty four.\n",
    "#\n",
    "'''\n",
    "my_input = [ row for row in sentence.strip().split('\\n')]\n",
    "\n",
    "vowels = ['a', 'e', 'i', 'o', 'u']\n",
    "\n",
    "def words_vowels(text):\n",
    "    length = 0\n",
    "    text = text.lower()\n",
    "    for s in text:\n",
    "        #print(s)\n",
    "        if s in vowels:\n",
    "            length += 1\n",
    "            #print('모음')\n",
    "    print(length)\n",
    "\n",
    "for s in my_input:\n",
    "    if not s == '#':\n",
    "        words_vowels(s)"
   ]
  },
  {
   "cell_type": "markdown",
   "metadata": {},
   "source": [
    "- 입력값을 어떻게 받아오는지 모르겠어서 일단 문자열로 받아왔다. 그리고 각 문자열을 하나씩 확인하면서 모음인지 확인하고 모음이면 length를 1씩 증가시켰다.\n",
    "- While 문을 사용한다는 것은 알고 있지만 정확히 어떻게 사용해야하는지 힌트를 참고함"
   ]
  },
  {
   "cell_type": "code",
   "execution_count": null,
   "metadata": {},
   "outputs": [],
   "source": [
    "my_input = []\n",
    "while True:\n",
    "    sentence = input()\n",
    "    my_input.append(sentence)\n",
    "    if sentence == '#':\n",
    "        break\n",
    "    \n",
    "    "
   ]
  },
  {
   "cell_type": "code",
   "execution_count": 29,
   "metadata": {},
   "outputs": [
    {
     "name": "stdout",
     "output_type": "stream",
     "text": [
      "7\n",
      "14\n",
      "9\n"
     ]
    }
   ],
   "source": [
    "my_input = []\n",
    "while True:\n",
    "    sentence = input()\n",
    "    my_input.append(sentence)\n",
    "    if sentence == '#':\n",
    "        break\n",
    "\n",
    "vowels = ['a', 'e', 'i', 'o', 'u']\n",
    "\n",
    "def words_vowels(text):\n",
    "    length = 0\n",
    "    text = text.lower()\n",
    "    for s in text:\n",
    "        #print(s)\n",
    "        if s in vowels:\n",
    "            length += 1\n",
    "            #print('모음')\n",
    "    print(length)\n",
    "\n",
    "for s in my_input:\n",
    "    if not s == '#':\n",
    "        words_vowels(s)"
   ]
  },
  {
   "cell_type": "code",
   "execution_count": null,
   "metadata": {},
   "outputs": [],
   "source": []
  }
 ],
 "metadata": {
  "kernelspec": {
   "display_name": "base",
   "language": "python",
   "name": "python3"
  },
  "language_info": {
   "codemirror_mode": {
    "name": "ipython",
    "version": 3
   },
   "file_extension": ".py",
   "mimetype": "text/x-python",
   "name": "python",
   "nbconvert_exporter": "python",
   "pygments_lexer": "ipython3",
   "version": "3.8.11"
  }
 },
 "nbformat": 4,
 "nbformat_minor": 2
}
