{
 "cells": [
  {
   "cell_type": "markdown",
   "id": "2e72014a",
   "metadata": {},
   "source": [
    "# 캠프가는 영식 백준 1590\n",
    " \n",
    "##### 문제\n",
    "영식이는 민식이와 함게 고속버스를 타고 캠프를 가야 하지만, 민식이는 영식이를 깨우지 않고 혼자 버스를 타고 캠프에 가버렸다.\n",
    "\n",
    "영식이는 혼자 고속버스터미널까지 가서 캠프에 오려고 한다. 터미널에는 캠프 장소까지 운행하는 N가지의 버스가 있다. 각각의 버스는 시작 시각, 간격, 대수의 정보를 가지고 있다. 예를 들어, 어떤 버스의 시작 시각이 특점 시점을 기준으로 10분 후이고, 간격은 10분이고, 대수가 5대이면, 이 버스는 10분, 20분, 30분, 40분, 50분에 한 대씩 출발한다.\n",
    "\n",
    "영식이는 버스터미널에 T분에 도착했다. 영식이가 버스를 타려면 최소 몇 분을 더 기다려야 하는지 구하는 프로그램을 작성하시오.\n",
    "\n",
    "##### 입력\n",
    "첫째 줄에 버스의 개수 N과 영식이가 버스터미널에 도착하는 시간 T가 주어진다. 둘째 줄부터 총 N개의 줄에 각 버스의 시작 시각 Si, 간격 Ii, 대수 Ci가 공백을 사이에 두고 주어진다.\n",
    "\n",
    "##### 출력\n",
    "첫째 줄에 영식이가 기다려야 하는 시간을 출력한다. 영식이가 도착하는 동시에 버스가 출발하면 정답은 0이다. 만약 버스가 없어서 캠프에 갈 수 없으면 -1을 출력한다. 정답은 231보다 작다.\n",
    "\n",
    "##### 제한\n",
    "1 ≤ N ≤ 50  \n",
    "1 ≤ T ≤ 1,000,000  \n",
    "1 ≤ Si ≤ 1,000,000  \n",
    "1 ≤ Ii ≤ 10,000  \n",
    "1 ≤ Ci ≤ 100  \n",
    "\n",
    "##### 예제 입력 1 \n",
    "1 285  \n",
    "150 50 10  \n",
    "##### 예제 출력 1 \n",
    "15"
   ]
  },
  {
   "cell_type": "markdown",
   "id": "b860c310",
   "metadata": {},
   "source": [
    "- 첫번째 예제를 보면, 영식이 285에 도착함\n",
    "- 그리고 150, 50, 10이 입력되니까 첫번째 버스가 150에 출발함. 나머지 버스들은 차례로 200, 250, 300, 350, 400....이렇게 출발함\n",
    "- 즉, 영식이 시간과 같거나 늦게 도착하는 버스의 시간을 찾으면 됨.\n",
    "- 300에 출발하는 버스를 타면 영식이는 (300-285)=15를 기다리면 탈 수 있음\n",
    "- 조건들은 버스 개수 제한, 시간 제한 등 모두 제한이 있음\n",
    "- 어떻게 구하면 되려나?\n",
    "    - (버스-영식) != 음수\n",
    "    - 0 <=(버스-영식) < 간격시간 이면 최소인거아닌가?"
   ]
  },
  {
   "cell_type": "markdown",
   "id": "66814643",
   "metadata": {},
   "source": []
  },
  {
   "cell_type": "code",
   "execution_count": 6,
   "id": "00160b01",
   "metadata": {},
   "outputs": [
    {
     "name": "stdout",
     "output_type": "stream",
     "text": [
      "True 15\n"
     ]
    }
   ],
   "source": [
    "n = 1\n",
    "t = 285\n",
    "s = 150\n",
    "i = 50\n",
    "c = 10\n",
    "end = s*c\n",
    "for time in range(s, end, i):\n",
    "    if ((time - t) >= 0) and ((time-t) < i):\n",
    "        print(True, time-t)\n",
    "        break "
   ]
  },
  {
   "cell_type": "code",
   "execution_count": null,
   "id": "e8f7bf6d",
   "metadata": {},
   "outputs": [],
   "source": [
    "import sys\n",
    "\n",
    "input = sys.stdin.read()\n",
    "data = input().split()\n",
    "N = int(data[0])\n",
    "T = int(data[1])\n",
    "\n",
    "def bus_min(s, i, c):\n",
    "    end = s*c\n",
    "    for time in range(s, end, i):\n",
    "        if ((time - T) >= 0) and ((time-T) < i):\n",
    "            #print(True, time-t)\n",
    "            return time-T\n",
    "            break \n",
    "\n",
    "min_list = []\n",
    "for _ in range(N):\n",
    "    line = sys.stdin.readline().rstrip('\\n')\n",
    "    tmp = line.split()\n",
    "    s = int(tmp[0])\n",
    "    i = int(tmp[1])\n",
    "    c = int(tmp[2])\n",
    "    \n",
    "    min_list.append(bus_min(s,i,c))\n",
    "\n",
    "print(min(min_list))"
   ]
  },
  {
   "cell_type": "markdown",
   "id": "db564e6a",
   "metadata": {},
   "source": [
    "- 런타임 에러 발생하여 GPT에게 피드백 요청함"
   ]
  },
  {
   "cell_type": "code",
   "execution_count": null,
   "id": "577295a6",
   "metadata": {},
   "outputs": [
    {
     "name": "stdout",
     "output_type": "stream",
     "text": [
      "1\n"
     ]
    }
   ],
   "source": [
    "import sys\n",
    "\n",
    "data = sys.stdin.read().splitlines()\n",
    "N, T = map(int, data[0].split())\n",
    "\n",
    "def bus_min(s, i, c):\n",
    "    end = s + i * (c - 1)\n",
    "    for time in range(s, end + 1, i):\n",
    "        if time >= T:\n",
    "            return time - T\n",
    "    return float('inf')  # 버스를 못 타는 경우 대비\n",
    "\n",
    "min_list = []\n",
    "for j in range(1, N + 1):\n",
    "    s, i, c = map(int, data[j].split())\n",
    "    min_list.append(bus_min(s, i, c))\n",
    "\n",
    "ans = min(min_list)\n",
    "print(ans if ans != float('inf') else -1)\n"
   ]
  },
  {
   "cell_type": "markdown",
   "id": "b60f66e9",
   "metadata": {},
   "source": [
    "- sys.stdin.read를 사용한 후 sys.stdin.readline()을 사용할 수 없음\n",
    "- 입력값을 한 번에 받아온 뒤, splitlines()로 라인마다 구별함\n",
    "- N,T 변수를 map 함수를 사용하여 int로 변환하고, 첫 줄을 split하여 리스트로 변환한 것을 사용함\n",
    "- bus_min 함수는 end 변수가 시작점 더하기 반복 - 1 횟수만큼 곱한 것을 더해주어야 정확함\n",
    "- break를 사용하지 않고 함수이므로 return을 시킴. 그리고 버스를 못 타는 경우 inf를 return함\n",
    "- 각 버스별 최소 시간을 리스트에 저장하고 min 함수로 최솟값을 print함\n",
    "- 이때, 버스를 못탄 경우(inf) -1을 return함"
   ]
  },
  {
   "cell_type": "code",
   "execution_count": null,
   "id": "9363deff",
   "metadata": {},
   "outputs": [],
   "source": []
  }
 ],
 "metadata": {
  "kernelspec": {
   "display_name": "Python 3",
   "language": "python",
   "name": "python3"
  },
  "language_info": {
   "codemirror_mode": {
    "name": "ipython",
    "version": 3
   },
   "file_extension": ".py",
   "mimetype": "text/x-python",
   "name": "python",
   "nbconvert_exporter": "python",
   "pygments_lexer": "ipython3",
   "version": "3.10.10"
  }
 },
 "nbformat": 4,
 "nbformat_minor": 5
}
