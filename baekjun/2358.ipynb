{
 "cells": [
  {
   "cell_type": "markdown",
   "id": "107d064a",
   "metadata": {},
   "source": [
    "# 평행선 백준 2358\n",
    "\n",
    "#### 문제\n",
    "평면에 n개의 점이 있다. 그중 두 개 이상의 점을 지나면서 x축 또는 y축에 평행한 직선이 몇 개인지 알아내는 프로그램을 작성하시오.\n",
    "\n",
    "#### 입력\n",
    "첫째 줄에 n(1 ≤ n ≤ 100,000)이 주어진다. 다음 n개의 줄에는 각 점의 좌표가 주어진다. 같은 좌표가 여러 번 주어질 수 있으며, 그런 경우 서로 다른 점으로 간주한다. 좌표는 절댓값이 231보다 작은 정수이다.\n",
    "\n",
    "#### 출력\n",
    "첫째 줄에 답을 출력한다.\n",
    "\n",
    "#### 예제 입력 1 \n",
    "4  \n",
    "0 0  \n",
    "10 10  \n",
    "0 10  \n",
    "10 0  \n",
    "#### 예제 출력 1 \n",
    "4"
   ]
  },
  {
   "cell_type": "markdown",
   "id": "8ff600d9",
   "metadata": {},
   "source": [
    "- x,y 좌표가 들어오고, x끼리 같은것, y끼리 같은거의 경우의 수\n",
    "- 같은 좌표가 여러번 주어질 수 있지만 서로 다른점으로 간주..\n",
    "- 좌표는 정수임\n",
    "- 짝을 짓는거니까 스택이나 큐로 할 수 있나? -> 안되는것같음\n",
    "- 같은 수끼리 묶은 뒤, 그 수량만큼 팩토리얼하면 되나?\n",
    "- 경우 1. x끼리 같은 좌표 2개\n",
    "- 경우 2. y끼리 같은 좌표 2개"
   ]
  },
  {
   "cell_type": "markdown",
   "id": "20872b88",
   "metadata": {},
   "source": []
  },
  {
   "cell_type": "code",
   "execution_count": 56,
   "id": "af23e537",
   "metadata": {},
   "outputs": [],
   "source": [
    "# x,y좌표 받은 구조를 어떻게 받는게 좋을까\n",
    "# 간단하게 하면 리스트로 해결할수도 있으려나\n",
    "\n",
    "N = 4\n",
    "my_input = [[0,0],[10,10],[0,10],[10,0], [0,0]]\n"
   ]
  },
  {
   "cell_type": "code",
   "execution_count": null,
   "id": "8b1f9da3",
   "metadata": {},
   "outputs": [],
   "source": [
    "# def xy_stack(xy_list):\n",
    "#     stack = []\n",
    "#     cnt = 0\n",
    "#     for point in xy_list:\n",
    "#         if stack and stack[-1] == point:\n",
    "#             print(point)\n",
    "#             cnt += 1\n",
    "#             stack.pop()\n",
    "#         else:\n",
    "#             stack.append(point)\n",
    "#     #print(cnt) \n",
    "#     print(stack)\n",
    "#     #return cnt   \n",
    "# => stack은 아닌듯"
   ]
  },
  {
   "cell_type": "code",
   "execution_count": 69,
   "id": "5db970fe",
   "metadata": {},
   "outputs": [
    {
     "name": "stdout",
     "output_type": "stream",
     "text": [
      "4\n"
     ]
    }
   ],
   "source": [
    "# test 1\n",
    "\n",
    "N = int(input())\n",
    "my_input = [ list(map(int, input().split(' '))) for _ in range(N)]\n",
    "\n",
    "x_list = list(map(lambda x: x[0], my_input))\n",
    "y_list = list(map(lambda x: x[1], my_input))\n",
    "\n",
    "def xy_cnt(xy_list):\n",
    "    stack = []\n",
    "    cnt = 0\n",
    "    for point in xy_list:\n",
    "        if point in stack:\n",
    "            cnt += 1\n",
    "        else:\n",
    "            stack.append(point)\n",
    "    return cnt   \n",
    "\n",
    "print(xy_cnt(x_list)+xy_cnt(y_list))\n"
   ]
  },
  {
   "cell_type": "markdown",
   "id": "f1273fbd",
   "metadata": {},
   "source": [
    "- 시간초과로 실패"
   ]
  },
  {
   "cell_type": "markdown",
   "id": "727ed4fe",
   "metadata": {},
   "source": [
    "#### 개선 코드\n",
    "- GPT 개선 요청\n",
    "- 단, 시간이 오래걸림"
   ]
  },
  {
   "cell_type": "code",
   "execution_count": null,
   "id": "12926ecf",
   "metadata": {},
   "outputs": [],
   "source": [
    "from collections import Counter\n",
    "\n",
    "N = int(input())\n",
    "x_list = []\n",
    "y_list = []\n",
    "\n",
    "for _ in range(N):\n",
    "    x, y = map(int, input().split())\n",
    "    x_list.append(x)\n",
    "    y_list.append(y)\n",
    "\n",
    "x_count = Counter(x_list)\n",
    "y_count = Counter(y_list)\n",
    "\n",
    "# 등장 횟수가 2 이상인 x, y의 개수만 카운트\n",
    "x_lines = sum(1 for v in x_count.values() if v >= 2)\n",
    "y_lines = sum(1 for v in y_count.values() if v >= 2)\n",
    "\n",
    "print(x_lines + y_lines)\n"
   ]
  },
  {
   "cell_type": "markdown",
   "id": "4c9bcce4",
   "metadata": {},
   "source": [
    "#### 백준 참고코드\n",
    "- 횟수를 안세고 두번 이상 등장했는지 여부만 판단하여 한번이라도 중복되면 True로 계산하여 효율추구\n",
    "- 별도의 라이브러리 안쓰고 dict로 처리함\n",
    "-sys.stdin.readline() 사용함\n",
    "- https://www.acmicpc.net/source/75691617"
   ]
  },
  {
   "cell_type": "markdown",
   "id": "c7bc1cd9",
   "metadata": {},
   "source": [
    "- vscode의 ipynb는 sys.stdin.readline()이 안되므로 py로 테스트해야함"
   ]
  },
  {
   "cell_type": "code",
   "execution_count": null,
   "id": "057c73b9",
   "metadata": {},
   "outputs": [],
   "source": [
    "def q2358():\n",
    "    # 평행선\n",
    "    import sys\n",
    "\n",
    "    n = int(sys.stdin.readline())\n",
    "    dic_x = {}\n",
    "    dic_y = {}\n",
    "    for _ in range(n):\n",
    "        x, y = map(int, sys.stdin.readline().split())\n",
    "        if x in dic_x:\n",
    "            dic_x[x] = True\n",
    "        else:\n",
    "            dic_x[x] = False\n",
    "        if y in dic_y:\n",
    "            dic_y[y] = True\n",
    "        else:\n",
    "            dic_y[y] = False\n",
    "    result = 0\n",
    "    for val in dic_x.values():\n",
    "        if val:\n",
    "            result += 1\n",
    "    for val in dic_y.values():\n",
    "        if val:\n",
    "            result += 1\n",
    "    print(result)\n",
    "q2358()"
   ]
  },
  {
   "cell_type": "code",
   "execution_count": null,
   "id": "dd13c27d",
   "metadata": {},
   "outputs": [],
   "source": []
  }
 ],
 "metadata": {
  "kernelspec": {
   "display_name": "Python 3",
   "language": "python",
   "name": "python3"
  },
  "language_info": {
   "codemirror_mode": {
    "name": "ipython",
    "version": 3
   },
   "file_extension": ".py",
   "mimetype": "text/x-python",
   "name": "python",
   "nbconvert_exporter": "python",
   "pygments_lexer": "ipython3",
   "version": "3.10.10"
  }
 },
 "nbformat": 4,
 "nbformat_minor": 5
}
