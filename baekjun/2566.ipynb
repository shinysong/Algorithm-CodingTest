{
 "cells": [
  {
   "cell_type": "markdown",
   "metadata": {},
   "source": [
    "# 최댓값\n",
    "- https://www.acmicpc.net/problem/2566\n",
    "- <그림 1>과 같이 9×9 격자판에 쓰여진 81개의 자연수 또는 0이 주어질 때, 이들 중 최댓값을 찾고 그 최댓값이 몇 행 몇 열에 위치한 수인지 구하는 프로그램을 작성하시오.'\n"
   ]
  },
  {
   "cell_type": "code",
   "execution_count": null,
   "metadata": {
    "vscode": {
     "languageId": "plaintext"
    }
   },
   "outputs": [],
   "source": [
    "# 백준용\n",
    "arr = [ list(map(int, input().split())) for _ in range(9)]\n",
    "max, x, y = [0] * 3\n",
    "for i in range(9):\n",
    "    for j in range(9):\n",
    "        if arr[i][j] >= max:\n",
    "            max = arr[i][j] \n",
    "            x = i + 1\n",
    "            y = j + 1\n",
    "print(max)\n",
    "print(x, y)"
   ]
  },
  {
   "cell_type": "code",
   "execution_count": null,
   "metadata": {
    "vscode": {
     "languageId": "plaintext"
    }
   },
   "outputs": [],
   "source": []
  }
 ],
 "metadata": {
  "language_info": {
   "name": "python"
  }
 },
 "nbformat": 4,
 "nbformat_minor": 2
}
