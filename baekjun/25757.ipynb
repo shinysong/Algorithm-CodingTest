{
 "cells": [
  {
   "cell_type": "markdown",
   "id": "a8ee9420",
   "metadata": {},
   "source": [
    "# 임스와 함께하는 미니게임 백준 25757\n",
    "시간 제한\t메모리 제한\t제출\t정답\t맞힌 사람\t정답 비율\n",
    "1 초\t512 MB\t6043\t4041\t3503\t68.218%\n",
    "문제\n",
    "임스가 미니게임을 같이할 사람을 찾고 있습니다.\n",
    "\n",
    "플레이할 미니게임으로는 윷놀이 \n",
    "$Y$, 같은 그림 찾기 \n",
    "$F$, 원카드 \n",
    "$O$가 있습니다. 각각 2, 3, 4 명이서 플레이하는 게임이며 인원수가 부족하면 게임을 시작할 수 없습니다.\n",
    "\n",
    "사람들이 임스와 같이 플레이하기를 신청한 횟수 \n",
    "$N$과 임스가 플레이할 게임의 종류가 주어질 때, 최대 몇 번이나 임스와 함께 게임을 플레이할 수 있는지 구하시오.\n",
    "\n",
    "임스와 여러 번 미니게임을 플레이하고자 하는 사람이 있으나, 임스는 한 번 같이 플레이한 사람과는 다시 플레이하지 않습니다.\n",
    "\n",
    "임스와 함께 플레이하고자 하는 사람 중 동명이인은 존재하지 않습니다. 임스와 lms0806은 서로 다른 인물입니다.\n",
    "\n",
    "#### 입력\n",
    "첫 번째 줄에는 사람들이 임스와 같이 플레이하기를 신청한 횟수 N과 같이 플레이할 게임의 종류가 주어진다. \n",
    "$(1 \\le N \\le 100\\,000)$ \n",
    "\n",
    "두 번째 줄부터 \n",
    "$N$개의 줄에는 같이 플레이하고자 하는 사람들의 이름이 문자열로 주어진다. \n",
    "$(1 \\le$ 문자열 길이 \n",
    "$\\le 20)$ \n",
    "\n",
    "사람들의 이름은 숫자 또는 영문 대소문자로 구성되어 있다.\n",
    "\n",
    "#### 출력\n",
    "임스가 최대로 몇 번이나 게임을 플레이할 수 있는지 구하시오.\n",
    "\n",
    "#### 예제 입력 1 \n",
    "7 Y  \n",
    "lms0806  \n",
    "lms0806  \n",
    "exponentiale  \n",
    "lms0806  \n",
    "jthis  \n",
    "lms0806  \n",
    "leo020630  "
   ]
  },
  {
   "cell_type": "markdown",
   "id": "5342c401",
   "metadata": {},
   "source": [
    "- set 함수를 사용하면 되지 않을까 생각이 먼저 들었다.\n",
    "- 게임 종류에 따라 인원수가 맞는지 검토하는 코드가 추가되도록 구현하기"
   ]
  },
  {
   "cell_type": "code",
   "execution_count": 5,
   "id": "25c167c6",
   "metadata": {},
   "outputs": [
    {
     "name": "stdout",
     "output_type": "stream",
     "text": [
      "1\n"
     ]
    }
   ],
   "source": [
    "# 입력 받기\n",
    "N, game_type = input().split()\n",
    "N = int(N)\n",
    "\n",
    "# 중복 제거\n",
    "players = set(input().strip() for _ in range(N))\n",
    "\n",
    "# 게임별 총 인원 수\n",
    "need_total = {'Y': 2, 'F': 3, 'O': 4}\n",
    "\n",
    "# 실제로 필요한 '임스 외' 인원 수\n",
    "need_others = need_total[game_type] - 1\n",
    "\n",
    "# 최대 플레이 횟수\n",
    "print(len(players) // need_others)"
   ]
  },
  {
   "cell_type": "markdown",
   "id": "d0d190e5",
   "metadata": {},
   "source": [
    "- 처음에 임스 제외하고 나눴다가 실패하고, 임스 외 인원 수로 계산함\n",
    "- 정답은 맞췄으나 시간이 오래걸림..\n",
    "- input 때문이었을까? sys로 다시 해보기"
   ]
  },
  {
   "cell_type": "markdown",
   "id": "fdb129ae",
   "metadata": {},
   "source": [
    "- https://www.acmicpc.net/source/93129450\n",
    "- 정윤이 코드 참고"
   ]
  },
  {
   "cell_type": "code",
   "execution_count": null,
   "id": "6d828b92",
   "metadata": {},
   "outputs": [],
   "source": [
    "import sys\n",
    "\n",
    "input = sys.stdin.read\n",
    "data = input().split()\n",
    "\n",
    "n = int(data[0])\n",
    "game_type = data[1]\n",
    "names = set(data[2:])  # 중복 제거하면서 이름 수집\n",
    "\n",
    "# 각 게임에 필요한 최소 인원수 (임스를 제외한 인원수 기준)\n",
    "required_players = {'Y': 1, 'F': 2, 'O': 3}\n",
    "\n",
    "# 최대 게임 횟수 = 고유 인원수 // 필요한 인원수\n",
    "print(len(names) // required_players[game_type])"
   ]
  },
  {
   "cell_type": "code",
   "execution_count": null,
   "id": "34df0f99",
   "metadata": {},
   "outputs": [],
   "source": []
  }
 ],
 "metadata": {
  "kernelspec": {
   "display_name": "Python 3",
   "language": "python",
   "name": "python3"
  },
  "language_info": {
   "codemirror_mode": {
    "name": "ipython",
    "version": 3
   },
   "file_extension": ".py",
   "mimetype": "text/x-python",
   "name": "python",
   "nbconvert_exporter": "python",
   "pygments_lexer": "ipython3",
   "version": "3.10.10"
  }
 },
 "nbformat": 4,
 "nbformat_minor": 5
}
