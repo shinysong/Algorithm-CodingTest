{
 "cells": [
  {
   "cell_type": "markdown",
   "metadata": {},
   "source": [
    "# !!초콜릿 중독 주의!!  백준 31458\n",
    "\n",
    "### 문제\n",
    "코코의 초콜릿 가게에서 파는 초콜릿은 달달하기로 유명하다. 그래서 코코는 아래와 같은 경고문을 가게 앞에 붙이려고 한다.\n",
    "\n",
    "!!초콜릿 중독 주의!!\n",
    "\n",
    "이 문구를 유심히 보던 코코는 느낌표 사이의 문장을 지우고 그 자리에 수를 넣으면 일종의 수식이 된다는 사실을 깨달았다. 이 수식을 계산해 보자.\n",
    "\n",
    "이 문제에서 계산할 수식은 정수 하나와 \n",
    "$0$개 이상의 느낌표로 이루어져 있다. 정수는 \n",
    "$0$ 또는 \n",
    "$1$이며, 느낌표는 정수의 앞이나 뒤에 올 수 있다. 이 수식을 계산하는 규칙은 다음과 같다.\n",
    "\n",
    " \n",
    "$n!$은 \n",
    "$n$의 팩토리얼이다. \n",
    "$0!=1$, \n",
    "$1!=1$로 정의된다.\n",
    " \n",
    "$!n$은 \n",
    "$n$의 논리 반전(logical not)이다. \n",
    "$!0=1$, \n",
    "$!1=0$으로 정의된다.\n",
    "팩토리얼이나 논리 반전이 중첩되어 있으면 중첩된 횟수만큼 계산하며, \n",
    "$!n!$과 같이 둘 다 사용된 경우에는 팩토리얼을 먼저 계산한다. 예를 들어, \n",
    "$!!n!!=!(!((n!) !))$이다.\n",
    "\n",
    "### 입력\n",
    "첫 번째 줄에는 수식의 개수 \n",
    "$T$가 주어진다. \n",
    "$(1\\le T\\le 1\\, 000)$ \n",
    "\n",
    "두 번째 줄부터 \n",
    "$T$개의 수식이 한 줄에 하나씩 주어진다. 하나의 수식은 \n",
    "$a$개의 느낌표, 정수 \n",
    "$n$, \n",
    "$b$개의 느낌표가 공백 없이 순서대로 합쳐진 형태이다. \n",
    "$(0\\le a,b\\le 30;$ \n",
    "$0\\le n\\le 1)$ \n",
    "\n",
    "### 출력\n",
    "각 수식을 계산한 결과를 한 줄에 하나씩 출력한다."
   ]
  },
  {
   "cell_type": "markdown",
   "metadata": {},
   "source": [
    "- 한번에 이해하기 어려움. 느낌표의 순서를 어떻게 계산하도록 해야할지 고민됨\n",
    "- 단순 치환으로 가능한지 생각해보아야함. replace.\n",
    "- 재귀와 replace를 적절히 사용하면 가능한가?"
   ]
  },
  {
   "cell_type": "code",
   "execution_count": null,
   "metadata": {},
   "outputs": [],
   "source": [
    "T = int(input())\n",
    "my_input = [input() for _ in range(T)]\n",
    "\n",
    "# 문자열로 생각해도 되는 것인가?\n",
    "# text.replace('0!','1').replace('1!', '1').replace('!0','1').replace('!1','0')"
   ]
  },
  {
   "cell_type": "code",
   "execution_count": null,
   "metadata": {},
   "outputs": [
    {
     "name": "stdout",
     "output_type": "stream",
     "text": [
      "1\n",
      "1\n",
      "1\n",
      "0\n",
      "1\n",
      "1\n"
     ]
    }
   ],
   "source": [
    "T = int(input())\n",
    "my_input = [input() for _ in range(T)]\n",
    "\n",
    "def right_replace(text):\n",
    "    if (len(text) == 1) or (text[-1] != '!'):\n",
    "        return text\n",
    "    res = text.replace('0!','1').replace('1!', '1')\n",
    "    res = right_replace(res)\n",
    "    return res\n",
    "\n",
    "def left_replace(text):\n",
    "    if (len(text) == 1) or (text[0] != '!'):\n",
    "        return text\n",
    "    res = text.replace('!0','1').replace('!1', '0')\n",
    "    res = left_replace(res)\n",
    "    return res\n",
    "\n",
    "for s in my_input:\n",
    "    print(left_replace(right_replace(s)))"
   ]
  },
  {
   "cell_type": "markdown",
   "metadata": {},
   "source": [
    "- 단순히 순서대로 치환하는 것은 에러가 났고, 오른쪽(즉, 팩토리얼)부터 계산하기 위해 함수를 2개로 구분함\n",
    "- 오른쪽 느낌표부터 계산되도록 right_replace를 재귀함수로 만들어 결과를 도출한 뒤, left_replace에 결과값을 넣어 다시 재귀함수로 결과를 도출함"
   ]
  },
  {
   "cell_type": "markdown",
   "metadata": {},
   "source": [
    "- 다른 사람들이 푼 것을 보니 왼쪽, 오른쪽 !(팩토리얼)의 수량에 따라 최종 결과값을 부여하는 방법이었음. \n",
    "- 재귀로 푼 사람이 더 있는지 궁금하다."
   ]
  },
  {
   "cell_type": "markdown",
   "metadata": {},
   "source": []
  }
 ],
 "metadata": {
  "kernelspec": {
   "display_name": "Python 3",
   "language": "python",
   "name": "python3"
  },
  "language_info": {
   "codemirror_mode": {
    "name": "ipython",
    "version": 3
   },
   "file_extension": ".py",
   "mimetype": "text/x-python",
   "name": "python",
   "nbconvert_exporter": "python",
   "pygments_lexer": "ipython3",
   "version": "3.10.10"
  }
 },
 "nbformat": 4,
 "nbformat_minor": 2
}
