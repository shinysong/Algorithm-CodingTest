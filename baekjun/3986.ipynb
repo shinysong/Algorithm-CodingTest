{
 "cells": [
  {
   "cell_type": "markdown",
   "metadata": {},
   "source": [
    "# 좋은 단어 백준 3986\n",
    "#### 문제\n",
    "이번 계절학기에 심리학 개론을 수강 중인 평석이는 오늘 자정까지 보고서를 제출해야 한다. 보고서 작성이 너무 지루했던 평석이는 노트북에 엎드려서 꾸벅꾸벅 졸다가 제출 마감 1시간 전에 깨고 말았다. 안타깝게도 자는 동안 키보드가 잘못 눌려서 보고서의 모든 글자가 A와 B로 바뀌어 버렸다! 그래서 평석이는 보고서 작성을 때려치우고 보고서에서 '좋은 단어'나 세보기로 마음 먹었다.\n",
    "\n",
    "평석이는 단어 위로 아치형 곡선을 그어 같은 글자끼리(A는 A끼리, B는 B끼리) 쌍을 짓기로 하였다. 만약 선끼리 교차하지 않으면서 각 글자를 정확히 한 개의 다른 위치에 있는 같은 글자와 짝 지을수 있다면, 그 단어는 '좋은 단어'이다. 평석이가 '좋은 단어' 개수를 세는 것을 도와주자.\n",
    "\n",
    "#### 입력\n",
    "첫째 줄에 단어의 수 N이 주어진다. (1 ≤ N ≤ 100)\n",
    "\n",
    "다음 N개 줄에는 A와 B로만 이루어진 단어가 한 줄에 하나씩 주어진다. 단어의 길이는 2와 100,000사이이며, 모든 단어 길이의 합은 1,000,000을 넘지 않는다.\n",
    "\n",
    "#### 출력\n",
    "첫째 줄에 좋은 단어의 수를 출력한다.\n",
    "\n",
    "- 예제 입력 1 :\n",
    "3\n",
    "ABAB\n",
    "AABB\n",
    "ABBA\n",
    "- 예제 출력 1 :\n",
    "2"
   ]
  },
  {
   "cell_type": "markdown",
   "metadata": {},
   "source": [
    "- ABA 나 BAB 처럼 중간에 다른 글자가 들어가면 교차하게되므로 금지\n",
    "- ABAABA는..되는데? 단순히 중간에 있다고 안되는건 아님\n",
    "- 짝수번째..전체 단어 길이..ABBABB ABBAAA \n",
    "- A가 있을 때 : \n",
    "    1. 그 다음에 바로 A가 나오는 경우: 좋은 단어 AA\n",
    "    2. B가 등장: 판단 보류 AB\n",
    "        - 2.1: A가 등장한 경우 : 판단보류 ABA\n",
    "        - 2.2 : B가 등장한 경우 : ABB\n",
    "            - 그 다음에 A가 나오면 좋은 단어 ABBA\n",
    "            - B가 나오는 경우: 판단보류 ABBB\n",
    "                - A가 나오면 : ABBBA 좋은 단어 인가? 각 글자를 정확히 한 개의 다른 위치에 있는 같은 글자와 짝 지을수 있다면 --> X 짝 지을 수 있는개 여러개니까 좋은 단어 아님. 아치형 곡선이 교차되진 않음. \n",
    "                - B가 나오면 : ABBBB 좋은 단어 아님\n",
    "\n",
    "- 가정 1. 홀수인 경우 무조건 좋은 단어가 될 수 없음.\n",
    "    - BBBBBBB ABBBAAA ABABBAA ABAAAB ABBBBBA\n",
    "- 가정 2. 짝수인 경우, \n",
    "- 가정 2-1. A, B가 둘 중 하나라도 홀수이면 좋은 단어가 될 수 없음\n",
    "    - AAABBB AAAAAB ABBBBB ABBBBBAAA ABBABBAAA\n",
    "- 가정 2-2. 모두 A거나 B이면 좋은 단어\n",
    "\n",
    "- 가정 3. 반 접어서 똑같으면 좋은 단어 :  즉, 팰린드롬이면 좋은 단어\n",
    "- 가정 3-1. 아닌 경우, 글자가 들어왔을 때, 똑같은 글자의 인덱스 번호를 탐색하고 그 사이의 다른글자의수가 짝수이면 좋은 단어"
   ]
  },
  {
   "cell_type": "code",
   "execution_count": null,
   "metadata": {},
   "outputs": [],
   "source": []
  },
  {
   "cell_type": "code",
   "execution_count": null,
   "metadata": {},
   "outputs": [],
   "source": [
    "# 짝수길이의 팰린드롬인가?\n",
    "def palindrome(word):\n",
    "    if len(word) == 0: # 일반적인 팰린드롬과 다르게 짝수여야만 하기 때문..\n",
    "        return True\n",
    "    \n",
    "    if word[0] == word[-1]:\n",
    "        return palindrome(word[1:-1])\n",
    "    else:\n",
    "        return False\n",
    "    \n",
    "# 모두 같은 글자인가?\n",
    "def same_word(word):\n",
    "    for i in range(len(word)-1):\n",
    "        print(i)\n",
    "        if word[i] == word[i+1]:\n",
    "            continue\n",
    "        else:\n",
    "            return False\n",
    "    return True\n",
    "\n",
    "    # 각 글자의 수가 하나라고 홀수이면 false\n",
    "def word_cnt(word):\n",
    "    a_cnt = 0\n",
    "    b_cnt = 0\n",
    "    for s in word:\n",
    "        if s == 'A':\n",
    "            a_cnt += a_cnt\n",
    "        elif s == 'B':\n",
    "            b_cnt += b_cnt\n",
    "    \n",
    "    if (len(word) == a_cnt) or (len(word) == b_cnt): # 모두 같은 글자이면 좋은 단어\n",
    "        return True\n",
    "    \n",
    "    if (((a_cnt) % 2) == 1) or (((b_cnt) % 2) == 1):\n",
    "        return False\n",
    "    else:\n",
    "        return '보류'\n",
    "\n",
    "\n",
    "def good_words(text):\n",
    "    # 글자수가 홀수이면 false\n",
    "    if len(text) % 2 == 1:\n",
    "        return False\n",
    "    \n",
    "    if palindrome(text):\n",
    "        return True\n",
    "    \n",
    "    if word_cnt(text) != False:\n",
    "        flag = word_cnt(text)\n",
    "        # flag는 True이거나 '보류'\n",
    "    else:\n",
    "        return False\n",
    "    \n",
    "# 같은 글자를 찾을 때까지만 탐색\n",
    "def search_index(word):\n",
    "    for i in range(1, len(word)):\n",
    "        if word[0] == word[i]:\n",
    "            if (i-0)%2 == 0:\n",
    "                search_index(word[1:])\n",
    "        else:\n",
    "            break"
   ]
  },
  {
   "cell_type": "markdown",
   "metadata": {},
   "source": [
    "- 함수를 너무 쪼개는 것 같아서 일단 멈추고 GPT에게 검토 부탁"
   ]
  },
  {
   "cell_type": "code",
   "execution_count": 39,
   "metadata": {},
   "outputs": [
    {
     "data": {
      "text/plain": [
       "'보류'"
      ]
     },
     "execution_count": 39,
     "metadata": {},
     "output_type": "execute_result"
    }
   ],
   "source": [
    "good_words('AABABB')"
   ]
  },
  {
   "cell_type": "markdown",
   "metadata": {},
   "source": [
    "## 스택\n",
    "\n",
    "- 여러 함수를 만들었지만 GPT에게 힌트를 얻으니까 스택을 사용하라고 함.."
   ]
  },
  {
   "cell_type": "code",
   "execution_count": null,
   "metadata": {},
   "outputs": [],
   "source": [
    "# word = 'ABBAA'\n",
    "# tmp_stack = []\n",
    "# tmp_stack.append(word[0])\n",
    "# for i in range(1,len(word)):\n",
    "#     if word[i] == tmp_stack[-1]:\n",
    "#         print(word[i],tmp_stack[-1])\n",
    "#         tmp_stack.pop()\n",
    "#     else:\n",
    "#         tmp_stack.append(word[i])\n",
    "# --> 직접 구현해보다가 GPT에게 도움요청      \n",
    "# \n",
    "def good_word(word: str) -> bool:\n",
    "    stack = []\n",
    "    for char in word:\n",
    "        if stack and stack[-1] == char:\n",
    "            stack.pop()  # 짝이 맞으면 제거\n",
    "        else:\n",
    "            stack.append(char)  # 아니면 스택에 추가\n",
    "\n",
    "    return not stack  # 스택이 비어 있으면 좋은 단어\n"
   ]
  },
  {
   "cell_type": "code",
   "execution_count": 59,
   "metadata": {},
   "outputs": [
    {
     "name": "stdout",
     "output_type": "stream",
     "text": [
      "3\n"
     ]
    }
   ],
   "source": [
    "N = int(input())\n",
    "my_input = [input() for _ in range(N)]\n",
    "\n",
    "good_cnt = 0\n",
    "for word in my_input:\n",
    "    if good_word(word):\n",
    "        good_cnt += 1\n",
    "\n",
    "print(good_cnt)"
   ]
  },
  {
   "cell_type": "code",
   "execution_count": null,
   "metadata": {},
   "outputs": [],
   "source": [
    "# 백준 제출용\n",
    "def good_word(word: str) -> bool:\n",
    "    stack = []\n",
    "    for char in word:\n",
    "        if stack and stack[-1] == char:\n",
    "            stack.pop()  # 짝이 맞으면 제거\n",
    "        else:\n",
    "            stack.append(char)  # 아니면 스택에 추가\n",
    "\n",
    "    return not stack  # 스택이 비어 있으면 좋은 단어\n",
    "\n",
    "N = int(input())\n",
    "my_input = [input() for _ in range(N)]\n",
    "\n",
    "good_cnt = 0\n",
    "for word in my_input:\n",
    "    if good_word(word):\n",
    "        good_cnt += 1\n",
    "\n",
    "print(good_cnt)"
   ]
  },
  {
   "cell_type": "markdown",
   "metadata": {},
   "source": [
    "## 📝 Today I Learned: 백준 3986 – 좋은 단어\n",
    "\n",
    "### 문제 개요\n",
    "\n",
    "- A와 B로 이루어진 단어들 중에서, \"좋은 단어\"의 개수를 세는 문제\n",
    "- \"좋은 단어\"란:\n",
    "  - 같은 글자끼리 쌍을 지을 수 있으며\n",
    "  - 그 쌍들이 **선이 교차하지 않도록** 이어질 수 있는 경우\n",
    "  - 즉, 각 문자가 정확히 한 번씩만 짝을 이루며, 전체적으로 **짝이 맞아 떨어지는 구조**를 가져야 함\n",
    "\n",
    "---\n",
    "\n",
    "### 초반 접근 방식\n",
    "\n",
    "- 팰린드롬 구조인지 확인\n",
    "- 각 글자의 수가 짝수인지 판별\n",
    "- 같은 문자의 짝을 찾을 수 있는 인덱스 탐색\n",
    "- 글자 수가 홀수인 경우 걸러내기\n",
    "\n",
    "하지만 예외 케이스가 많고, 모든 조건을 수작업으로 검사하는 방식은 유지하기 어렵고 비효율적임을 깨달음\n",
    "\n",
    "---\n",
    "\n",
    "### 핵심 아이디어: **스택(Stack)을 이용한 짝짓기 검사**\n",
    "\n",
    "- 스택 자료구조를 활용하면 자연스럽게 짝지어진 문자만 제거하고, 남는 문자가 있는 경우를 처리할 수 있다.\n",
    "- 동일 문자가 연속되거나, 나중에 짝지어지는 경우도 문제없이 처리 가능\n",
    "- 최종적으로 스택이 비면 → 모든 문자가 정확히 한 쌍씩 짝을 이룬 것 → \"좋은 단어\"\n",
    "\n",
    "---\n",
    "\n",
    "### 복잡도\n",
    "- **시간복잡도**: O(L) (L = 단어 길이)\n",
    "- **공간복잡도**: O(L) (최악의 경우 스택에 전부 쌓이는 경우)\n",
    "\n",
    "---\n",
    "\n",
    "- 직접 규칙을 분석하고 수작업으로 판단 조건을 나열해보는 과정도 중요하지만, **자료구조가 제공하는 문제 해결 프레임**을 잘 활용하는 것이 더 좋은 해법이 될 수 있다.\n",
    "- 스택은 괄호 짝 맞추기, 문자열 짝짓기 등 **쌍을 이루는 구조의 유효성 판단** 문제에 매우 강력한 도구임을 다시금 확인했다."
   ]
  },
  {
   "cell_type": "code",
   "execution_count": null,
   "metadata": {},
   "outputs": [],
   "source": []
  }
 ],
 "metadata": {
  "kernelspec": {
   "display_name": "Python 3",
   "language": "python",
   "name": "python3"
  },
  "language_info": {
   "codemirror_mode": {
    "name": "ipython",
    "version": 3
   },
   "file_extension": ".py",
   "mimetype": "text/x-python",
   "name": "python",
   "nbconvert_exporter": "python",
   "pygments_lexer": "ipython3",
   "version": "3.10.10"
  }
 },
 "nbformat": 4,
 "nbformat_minor": 2
}
