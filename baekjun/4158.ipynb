{
 "cells": [
  {
   "cell_type": "markdown",
   "id": "f387391a",
   "metadata": {},
   "source": [
    "# CD 백준 4158\n",
    "##### 문제\n",
    "상근이와 선영이는 동시에 가지고 있는 CD를 팔려고 한다. CD를 몇 개나 팔 수 있을까?\n",
    "\n",
    "##### 입력\n",
    "입력은 여러 개의 테스트 케이스로 이루어져 있다. 각 테스트 케이스의 첫째 줄에는 상근이가 가지고 있는 CD의 수 N, 선영이가 가지고 있는 CD의 수 M이 주어진다. N과 M은 최대 백만이다. 다음 줄부터 N개 줄에는 상근이가 가지고 있는 CD의 번호가 오름차순으로 주어진다. 다음 M개 줄에는 선영이가 가지고 있는 CD의 번호가 오름차순으로 주어진다. CD의 번호는 십억을 넘지 않는 양의 정수이다. 입력의 마지막 줄에는 0 0이 주어진다.\n",
    "\n",
    "상근이와 선영이가 같은 CD를 여러장 가지고 있는 경우는 없다.\n",
    "\n",
    "##### 출력\n",
    "두 사람이 동시에 가지고 있는 CD의 개수를 출력한다.\n",
    "\n",
    "##### 예제 입력 1 \n",
    "3 3  \n",
    "1  \n",
    "2  \n",
    "3  \n",
    "1  \n",
    "2  \n",
    "4  \n",
    "0 0  \n",
    "##### 예제 출력 1 \n",
    "2  "
   ]
  },
  {
   "cell_type": "markdown",
   "id": "ed01b101",
   "metadata": {},
   "source": [
    "- Counter로 숫자를 문자로 취급해서 몇개인지 세면 안되나\n",
    "- 리스트로 넣어서..?\n",
    "- 입출력 처리를 어떻게 할지 고민"
   ]
  },
  {
   "cell_type": "code",
   "execution_count": null,
   "id": "f1175427",
   "metadata": {},
   "outputs": [],
   "source": [
    "import sys\n",
    "from collections import Counter\n",
    "\n",
    "data = sys.stdin.read().split('\\n')\n",
    "N, M = map(int, data[0].split())\n",
    "nm = N+M\n",
    "cd_list = data[1:nm-1]\n",
    "result = Counter(cd_list).most_common(2)\n",
    "print(len(result))"
   ]
  },
  {
   "cell_type": "markdown",
   "id": "0ec19e7b",
   "metadata": {},
   "source": [
    "- 실패~\n",
    "- 입력값 처리시 오류가 있었음.read(), \\n\n",
    "- most_common(2)을 잘못알았음\n",
    "- 중복을 세기 위해 gpt 도움을 받음"
   ]
  },
  {
   "cell_type": "code",
   "execution_count": null,
   "id": "4687716c",
   "metadata": {},
   "outputs": [],
   "source": [
    "import sys\n",
    "from collections import Counter\n",
    "\n",
    "data = sys.stdin.read().split('\\n')\n",
    "N, M = map(int, data[0].split())\n",
    "nm = N+M\n",
    "cd_list = data[1:nm-1] # 0 0은 제외\n",
    "duplicates = [cd for cd, freq in count.items() if freg > 1]\n",
    "print(len(duplicates))\n"
   ]
  },
  {
   "cell_type": "markdown",
   "id": "16f78f16",
   "metadata": {},
   "source": [
    "- 런타임 에러로 실패"
   ]
  },
  {
   "cell_type": "code",
   "execution_count": null,
   "id": "b7c23414",
   "metadata": {},
   "outputs": [],
   "source": [
    "## GPT 개선\n",
    "\n",
    "import sys\n",
    "from collections import Counter\n",
    "\n",
    "data = sys.stdin.read().split('\\n')\n",
    "idx = 0\n",
    "\n",
    "while True:\n",
    "    if data[idx] == '0 0':\n",
    "        break\n",
    "    N, M = map(int, data[idx].split())\n",
    "    sang = data[idx+1:idx+1+N]\n",
    "    sun = data[idx+1+N:idx+1+N+M]\n",
    "\n",
    "    # 중복 체크\n",
    "    total = sang + sun\n",
    "    count = Counter(total)\n",
    "    print(sum(1 for v in count.values() if v == 2))\n",
    "\n",
    "    # 다음 테스트 케이스로 이동\n",
    "    idx += 1 + N + M\n"
   ]
  },
  {
   "cell_type": "markdown",
   "id": "56c23a50",
   "metadata": {},
   "source": [
    "- 입력이 여러 개의 테스트 케이스로 이뤄져있다고 한 부분이 복병이었음 -> 3 3 입력되고 2 3 입력되고 1 1 입력되고 등등 여러개한 뒤에 0 0이 입력되면 진짜 종료\n",
    "- 여러 번 처리할 수 있어야하기 때문에 while문을 사용함\n",
    "- 그리고 상은, 선영의 리스트를 각각 계산"
   ]
  }
 ],
 "metadata": {
  "kernelspec": {
   "display_name": "Python 3",
   "language": "python",
   "name": "python3"
  },
  "language_info": {
   "codemirror_mode": {
    "name": "ipython",
    "version": 3
   },
   "file_extension": ".py",
   "mimetype": "text/x-python",
   "name": "python",
   "nbconvert_exporter": "python",
   "pygments_lexer": "ipython3",
   "version": "3.10.10"
  }
 },
 "nbformat": 4,
 "nbformat_minor": 5
}
