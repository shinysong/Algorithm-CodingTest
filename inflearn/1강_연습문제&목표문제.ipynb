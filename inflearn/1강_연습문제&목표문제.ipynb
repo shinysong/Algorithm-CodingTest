{
  "cells": [
    {
      "cell_type": "markdown",
      "metadata": {
        "id": "O0G5_x4u9E7e"
      },
      "source": [
        "# **1강 연습 문제 세트 & 목표 문제**\n",
        "※ 이 자료는 헤이밥 코딩테스트 강의를 위한 자료입니다.    \n",
        "수강생들만을 위한 자료로, 무단 배포를 금합니다.  "
      ]
    },
    {
      "cell_type": "markdown",
      "metadata": {
        "id": "KdGyT6wbfH9B"
      },
      "source": [
        " ### 📝 복습 문제 1: 문자열 길이 필터링 함수 제작\n",
        "\n",
        "**문제 설명**  \n",
        "알파벳으로 이루어진 문자열 하나를 입력받아, **\"길이가 5 이상인 경우에만\"** 문자열 전체를 대문자로 변환하여 반환하는 함수를 정의하시오.  \n",
        "길이가 5 이하라면 **'길이가 5 이하입니다'** 메시지를 반환합니다.\n",
        "\n",
        "**예시**  \n",
        "- 입력: `'abc'`  \n",
        "  출력: `'길이가 5 미만입니다'`  \n",
        "- 입력: `'abcde'`  \n",
        "  출력: `'ABCDE'`  "
      ]
    },
    {
      "cell_type": "code",
      "execution_count": 4,
      "metadata": {
        "id": "UUBRIu-MboL5"
      },
      "outputs": [
        {
          "name": "stdout",
          "output_type": "stream",
          "text": [
            "ABCED\n"
          ]
        }
      ],
      "source": [
        "# TODO\n",
        "def filter_str():\n",
        "    str = input()\n",
        "    if len(str) >= 5:\n",
        "        print(str.upper())\n",
        "    else:\n",
        "        print('길이가 5 이하입니다')\n",
        "        \n",
        "filter_str()"
      ]
    },
    {
      "cell_type": "markdown",
      "metadata": {
        "id": "-4Gsy2khfV5e"
      },
      "source": [
        "### 📝 복습 문제 2: N 이하 짝수 제곱수 리스트 반환하는 함수 제작\n",
        "\n",
        "**문제 설명**  \n",
        "정수 N을 입력받아, N 이하의 숫자 중에서 짝수만을 제곱하여 리스트를 만들어 반환하는 함수를 정의하시오.\n",
        "\n",
        "**예시**  \n",
        "- 입력: `N = 5`  \n",
        "  출력: `[4, 16]`  \n",
        "- 입력: `N = 10`  \n",
        "  출력: `[4, 16, 36, 64, 100]`  "
      ]
    },
    {
      "cell_type": "code",
      "execution_count": 18,
      "metadata": {
        "id": "H3moGheOfWP4"
      },
      "outputs": [
        {
          "name": "stdout",
          "output_type": "stream",
          "text": [
            "[4, 16, 36, 64, 100]\n"
          ]
        }
      ],
      "source": [
        "# TODO\n",
        "\n",
        "N = input()\n",
        "\n",
        "def square_input(N):\n",
        "    N = int(N)\n",
        "    result = [ i*i for i in range(0,N+1,2) if i != 0 ]\n",
        "    print(result)\n",
        "square_input(N)"
      ]
    },
    {
      "cell_type": "markdown",
      "metadata": {
        "id": "_JXs9cPZfgDu"
      },
      "source": [
        "### 📝 복습 문제 3: 리스트 컴프리헨션을 이용하여 특정 문자 변형하기\n",
        "\n",
        "**문제 설명**  \n",
        "리스트 컴프리헨션을 이용하여, 알파벳으로 된 이름의 특정 문자(`e`)만 2개로 늘려서 변형시키는 코드를 작성해 봅시다!\n",
        "\n",
        "```python\n",
        "name = 'Heybob'\n",
        "new_name_list = [# TODO]\n",
        "new_name = ''.join(new_name_list)\n",
        "print(new_name)\n",
        "```\n",
        "\n",
        "**예시**  \n",
        "- 입력: `name = 'Heybob'`  \n",
        "  출력: `'Heeybob'`  "
      ]
    },
    {
      "cell_type": "code",
      "execution_count": 22,
      "metadata": {
        "id": "5uqoSkUxfgLR"
      },
      "outputs": [
        {
          "name": "stdout",
          "output_type": "stream",
          "text": [
            "Heeybob\n"
          ]
        }
      ],
      "source": [
        "# TODO\n",
        "name = 'Heybob'\n",
        "new_name_list = [ i if i != 'e' else i*2 for i in name ]\n",
        "new_name = ''.join(new_name_list);\n",
        "print(new_name)"
      ]
    },
    {
      "cell_type": "markdown",
      "metadata": {
        "id": "d6-9XzqTfgTG"
      },
      "source": [
        "### 📝 복습 문제 4: `map` 함수와 람다 함수를 활용하여 특정 문자 변형하기\n",
        "\n",
        "**문제 설명**  \n",
        "`map` 함수와 람다 함수를 활용하여, 알파벳으로 된 이름의 특정 문자(`e`)만 2개로 늘려서 변형시키는 코드를 작성해 봅시다!\n",
        "\n",
        "```python\n",
        "name = 'Heybob'\n",
        "new_name_list = list(map(#TODO, name))\n",
        "new_name = ''.join(new_name_list)\n",
        "print(new_name)\n"
      ]
    },
    {
      "cell_type": "code",
      "execution_count": 29,
      "metadata": {
        "id": "xXxF_HyzfgZo"
      },
      "outputs": [
        {
          "name": "stdout",
          "output_type": "stream",
          "text": [
            "Heeybob\n"
          ]
        }
      ],
      "source": [
        "# TODO\n",
        "name = 'Heybob'\n",
        "new_name_list = list(map(lambda x:x*2 if x == 'e' else x, name))\n",
        "new_name = ''.join(new_name_list);\n",
        "print(new_name)"
      ]
    },
    {
      "cell_type": "markdown",
      "metadata": {
        "id": "5EBG5DlWGLTA"
      },
      "source": [
        "### 📝 복습 문제 5: 리스트 변환 및 `zip` 함수 활용하기\n",
        "\n",
        "**문제 설명**  \n",
        "다음과 같이 길이가 같은 사람 이름과 나이가 '공백으로 구분된 문자열'로 입력됩니다.\n"
      ]
    },
    {
      "cell_type": "code",
      "execution_count": 30,
      "metadata": {
        "id": "F3oXyReQGSJG"
      },
      "outputs": [],
      "source": [
        "names = '가희 라희 나희 다희 마희'\n",
        "ages = '32 22 34 54 28'"
      ]
    },
    {
      "cell_type": "markdown",
      "metadata": {
        "id": "hpqGM8JHGQU7"
      },
      "source": [
        "\n",
        "1. 각 문자열을 리스트로 변환하고, `ages`는 정수의 리스트로 변환하세요."
      ]
    },
    {
      "cell_type": "code",
      "execution_count": 47,
      "metadata": {
        "id": "CXh9jzHlF8LI"
      },
      "outputs": [
        {
          "name": "stdout",
          "output_type": "stream",
          "text": [
            "['가희', '라희', '나희', '다희', '마희']\n",
            "[32, 22, 34, 54, 28]\n"
          ]
        }
      ],
      "source": [
        "# TODO\n",
        "print(names.split())\n",
        "names_list = names.split()\n",
        "print(list(map(lambda x : int(x), ages.split())))\n",
        "ages_list = list(map(lambda x : int(x), ages.split()))"
      ]
    },
    {
      "cell_type": "markdown",
      "metadata": {
        "id": "90YdEqu4F9_x"
      },
      "source": [
        "\n",
        "\n",
        "2. 리스트 컴프리헨션을 이용하여, 이름과 나이 리스트의 정보를 다음과 같은 2차원 배열로 만드세요."
      ]
    },
    {
      "cell_type": "code",
      "execution_count": null,
      "metadata": {
        "id": "ciDDPw45F8SY"
      },
      "outputs": [
        {
          "name": "stdout",
          "output_type": "stream",
          "text": [
            "[['가희', 32], ['라희', 22], ['나희', 34], ['다희', 54], ['마희', 28]]\n"
          ]
        }
      ],
      "source": [
        "# 예시 출력: [['가희', 32], ['라희', 22], ['나희', 34], ['다희', 54], ['마희', 28]]\n",
        "    \n",
        "res = [[names_list[i], ages_list[i]] for i in range(5)]\n",
        "    \n",
        "print(res)"
      ]
    },
    {
      "cell_type": "markdown",
      "metadata": {
        "id": "PC0bFpoDF_A5"
      },
      "source": [
        "\n",
        "\n",
        "3. `zip()` 함수를 이용하여, 이름과 나이 리스트의 정보를 다음과 같은 'list of tuples'로 만드세요.\n"
      ]
    },
    {
      "cell_type": "code",
      "execution_count": 45,
      "metadata": {
        "id": "wh_b5pzIF8X3"
      },
      "outputs": [
        {
          "name": "stdout",
          "output_type": "stream",
          "text": [
            "[('가희', 32), ('라희', 22), ('나희', 34), ('다희', 54), ('마희', 28)]\n"
          ]
        }
      ],
      "source": [
        "# 예시 출력: [('가희', 32), ('라희', 22), ('나희', 34), ('다희', 54), ('마희', 28)]\n",
        "res2 = [ x for x in zip(names_list, ages_list)]\n",
        "print(res2)"
      ]
    },
    {
      "cell_type": "markdown",
      "metadata": {
        "id": "hDTUG4VXhIoO"
      },
      "source": [
        "## **⛳ 1강 목표 문제 : 2차원 최댓값**\n",
        "[BOJ 2566](https://www.acmicpc.net/problem/2566)"
      ]
    },
    {
      "cell_type": "code",
      "execution_count": null,
      "metadata": {},
      "outputs": [],
      "source": [
        "# input 받아서 하는 경우\n",
        "N, M = list(map(int, input().split()))\n",
        "\n",
        "arr = [ list(map(int, input().split())) for _ in range(N)]"
      ]
    },
    {
      "cell_type": "code",
      "execution_count": 28,
      "metadata": {},
      "outputs": [],
      "source": [
        "# input을 주는 경우\n",
        "my_input = '''\n",
        "90 23 85 34 17 74 25 52 65\n",
        "10 7 39 42 88 52 14 72 63\n",
        "87 42 18 78 53 45 18 84 53\n",
        "34 28 64 85 12 16 75 36 55\n",
        "21 77 45 35 28 75 90 76 1\n",
        "25 87 65 15 28 11 37 28 74\n",
        "65 27 75 41 7 89 78 64 39\n",
        "47 47 70 45 23 65 3 41 44\n",
        "87 13 82 38 31 12 29 29 80\n",
        "'''\n",
        "\n",
        "arr = [ list(map(int, row.strip().split())) for row in my_input.strip().split('\\n')]"
      ]
    },
    {
      "cell_type": "code",
      "execution_count": null,
      "metadata": {},
      "outputs": [
        {
          "name": "stdout",
          "output_type": "stream",
          "text": [
            "90\n",
            "1 1\n"
          ]
        }
      ],
      "source": [
        "def find_max(arr):\n",
        "    max, x, y = [0] * 3\n",
        "    for i in range(9):\n",
        "        for j in range(9):\n",
        "            if arr[i][j] >= max: # 같거나 크면!!\n",
        "                max = arr[i][j] \n",
        "                x = i + 1\n",
        "                y = j + 1\n",
        "    print(max)\n",
        "    print(x, y)\n",
        "\n",
        "find_max(arr)"
      ]
    },
    {
      "cell_type": "code",
      "execution_count": null,
      "metadata": {},
      "outputs": [
        {
          "name": "stdout",
          "output_type": "stream",
          "text": [
            "90\n",
            "1 1\n"
          ]
        }
      ],
      "source": [
        "# 백준용\n",
        "arr = [ list(map(int, input().split())) for _ in range(9)]\n",
        "max, x, y = [0] * 3\n",
        "for i in range(9):\n",
        "    for j in range(9):\n",
        "        if arr[i][j] >= max:\n",
        "            max = arr[i][j] \n",
        "            x = i + 1\n",
        "            y = j + 1\n",
        "print(max)\n",
        "print(x, y)"
      ]
    },
    {
      "cell_type": "code",
      "execution_count": null,
      "metadata": {
        "id": "j-CnOUSbiHvI"
      },
      "outputs": [],
      "source": [
        "# 코랩에서 a = input() 실행 후 다음을 붙여넣어 보시면, 붙여넣는 과정에서 입력받은 것이 전부 한 줄로 포맷팅이 되어 버립니다.\n",
        "'''\n",
        "90 23 85 34 17 74 25 52 65\n",
        "10 7 39 42 88 52 14 72 63\n",
        "87 42 18 78 53 45 18 84 53\n",
        "34 28 64 85 12 16 75 36 55\n",
        "21 77 45 35 28 75 90 76 1\n",
        "25 87 65 15 28 11 37 28 74\n",
        "65 27 75 41 7 89 78 64 39\n",
        "47 47 70 45 23 65 3 41 44\n",
        "87 13 82 38 31 12 29 29 80\n",
        "'''"
      ]
    },
    {
      "cell_type": "code",
      "execution_count": 2,
      "metadata": {
        "colab": {
          "base_uri": "https://localhost:8080/"
        },
        "id": "LFcIIs09h9M0",
        "outputId": "d9c72d33-72bb-43af-93af-e36401158ef1"
      },
      "outputs": [],
      "source": [
        "a = input()"
      ]
    },
    {
      "cell_type": "code",
      "execution_count": 3,
      "metadata": {
        "colab": {
          "base_uri": "https://localhost:8080/"
        },
        "id": "bPJR0AOmiLa9",
        "outputId": "fd8d800a-d9f7-43bb-f741-1edb2d8a8a62"
      },
      "outputs": [
        {
          "name": "stdout",
          "output_type": "stream",
          "text": [
            "''' 90 23 85 34 17 74 25 52 65 10 7 39 42 88 52 14 72 63 87 42 18 78 53 45 18 84 53 34 28 64 85 12 16 75 36 55 21 77 45 35 28 75 90 76 1 25 87 65 15 28 11 37 28 74 65 27 75 41 7 89 78 64 39 47 47 70 45 23 65 3 41 44 87 13 82 38 31 12 29 29 80 '''\n"
          ]
        }
      ],
      "source": [
        "print(a)"
      ]
    },
    {
      "cell_type": "code",
      "execution_count": null,
      "metadata": {},
      "outputs": [
        {
          "name": "stdout",
          "output_type": "stream",
          "text": [
            "90\n",
            "0 0\n"
          ]
        }
      ],
      "source": []
    },
    {
      "cell_type": "markdown",
      "metadata": {
        "id": "f9jp2txq0wfR"
      },
      "source": [
        "# **1강 추가 연습**\n",
        "**Solved.ac 백준 문제 단계별 컬렉션 활용하기**\n",
        "[Solved.ac 바로가기](https://solved.ac/problems/level)"
      ]
    },
    {
      "cell_type": "markdown",
      "metadata": {
        "id": "fZ1A6V06k-Cx"
      },
      "source": [
        "### 추천 문제\n",
        "\n",
        "###필수 추천 문제\n",
        "\n",
        "다음 6개 문제는 꼭 풀어보신 후에 추가적으로 [solved.ac](https://solved.ac)에서 문제들을 찾아  풀어보시면 됩니다!\n",
        "\n",
        "1. **모음의 개수** - [백준 1264번](https://www.acmicpc.net/problem/1264)\n",
        "2. **행렬 덧셈** - [백준 2738번](https://www.acmicpc.net/problem/2738)\n",
        "3. **X 보다 작은 수 세기** - [백준 10871번](https://www.acmicpc.net/problem/10871)\n",
        "4. **나머지** - [백준 3052번](https://www.acmicpc.net/problem/3052)\n",
        "5. **최댓값 구하기 문제** - [백준 2562번](https://www.acmicpc.net/problem/2562)\n",
        "6. **그룹 단어 체커** - [백준 1316번](https://www.acmicpc.net/problem/1316)\n",
        "\n",
        "### 도전 문제 추천\n",
        "\n",
        "조금 더 난이도가 있는 문제에 도전해보고 싶으신 분들께 추천합니다!\n",
        "\n",
        "1. **핸드폰 요금** - [백준 1267번](https://www.acmicpc.net/problem/1267)\n",
        "2. **꼬리를 무는 숫자 나열** - [백준 1598번](https://www.acmicpc.net/problem/1598)"
      ]
    },
    {
      "cell_type": "code",
      "execution_count": null,
      "metadata": {
        "id": "ZAloWooNlS9I"
      },
      "outputs": [],
      "source": [
        "# TODO"
      ]
    }
  ],
  "metadata": {
    "colab": {
      "provenance": []
    },
    "kernelspec": {
      "display_name": "Python 3",
      "name": "python3"
    },
    "language_info": {
      "codemirror_mode": {
        "name": "ipython",
        "version": 3
      },
      "file_extension": ".py",
      "mimetype": "text/x-python",
      "name": "python",
      "nbconvert_exporter": "python",
      "pygments_lexer": "ipython3",
      "version": "3.10.10"
    }
  },
  "nbformat": 4,
  "nbformat_minor": 0
}
