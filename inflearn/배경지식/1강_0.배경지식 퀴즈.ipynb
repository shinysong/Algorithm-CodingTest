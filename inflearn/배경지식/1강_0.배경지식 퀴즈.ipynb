{
 "cells": [
  {
   "cell_type": "markdown",
   "id": "deb1fe74",
   "metadata": {
    "id": "deb1fe74"
   },
   "source": [
    "### 📚 1강_배경지식 퀴즈\n",
    "\n",
    "- split 내장함수\n",
    "- 리스트 합치기\n",
    "- 형변환 (typing)\n",
    "- 1차원 배열 순회하기\n",
    "- 2차원 배열 순회하기"
   ]
  },
  {
   "cell_type": "markdown",
   "id": "pT4NA76VstOZ",
   "metadata": {
    "id": "pT4NA76VstOZ"
   },
   "source": [
    "※ 이 자료는 헤이밥 코딩테스트 강의를 위한 자료입니다.    \n",
    "수강생들만을 위한 자료로, 무단 배포를 금합니다.    "
   ]
  },
  {
   "cell_type": "markdown",
   "id": "21d8c05c",
   "metadata": {
    "id": "21d8c05c"
   },
   "source": [
    "#### 배경지식 퀴즈 1. 내장함수 split\n",
    "-  split : 문자열을 쪼개어(토큰화하여) 리스트 반환\n",
    "\n",
    "< Input >\n",
    "\n",
    "    text = 'a b c d e'\n",
    "    \n",
    "< Output >\n",
    "\n",
    "    ['a', 'b', 'c', 'd', 'e']"
   ]
  },
  {
   "cell_type": "code",
   "execution_count": null,
   "id": "067285e7",
   "metadata": {},
   "outputs": [],
   "source": [
    "text = 'a b c d e'\n",
    "prinr"
   ]
  },
  {
   "cell_type": "code",
   "execution_count": null,
   "id": "c1281842",
   "metadata": {
    "id": "c1281842",
    "scrolled": true
   },
   "outputs": [],
   "source": [
    "my_str = 'a b c d e'\n",
    "arr = my_str.split()\n",
    "print(arr) # 출력: ['a', 'b', 'c', 'd', 'e']"
   ]
  },
  {
   "cell_type": "code",
   "execution_count": null,
   "id": "7cc1509c",
   "metadata": {
    "id": "7cc1509c"
   },
   "outputs": [],
   "source": [
    "my_str = 'a#b#c#d#e'\n",
    "arr = my_str.split(\"#\")\n",
    "print(arr) # 출력: ['a', 'b', 'c', 'd', 'e']"
   ]
  },
  {
   "cell_type": "markdown",
   "id": "b6f62a6e",
   "metadata": {
    "id": "b6f62a6e"
   },
   "source": [
    "#### 배경지식 퀴즈 2. 리스트 합치기\n",
    "\n",
    "아래의 배열 a에 배열 b의 원소들을 추가하기\n",
    "\n",
    "< Input >\n",
    "\n",
    "    a = [1,2,3]\n",
    "    b = [4,5,6]\n",
    "\n",
    "< Output >\n",
    "\n",
    "    [1, 2, 3, 4, 5, 6]"
   ]
  },
  {
   "cell_type": "code",
   "execution_count": null,
   "id": "5d2786f1",
   "metadata": {
    "id": "5d2786f1"
   },
   "outputs": [],
   "source": [
    "a = [1,2,3]\n",
    "b = [4,5,6]\n",
    "\n",
    "#TODO\n",
    "a += b\n",
    "\n",
    "print(a) # [1, 2, 3, 4, 5, 6]"
   ]
  },
  {
   "cell_type": "markdown",
   "id": "04e8e280",
   "metadata": {
    "id": "04e8e280"
   },
   "source": [
    "#### 배경지식 퀴즈 3. 형변환\n",
    "3.1. 문자열로 주어진 정수를 int자료형으로 형변환하고 출력하기  \n",
    "< input >\n",
    "\n",
    "    my_num = '112'\n",
    "\n",
    "< output >\n",
    "    1\n",
    "    \n",
    "3.2. set 으로 주어진 자료를 list 로 형변환하고 출력하기\n",
    "< Input >\n",
    "       \n",
    "    my_data = {1,2,3}\n",
    "\n",
    "< Output >\n",
    "    \n",
    "    [1,2,3]"
   ]
  },
  {
   "cell_type": "code",
   "execution_count": null,
   "id": "838a7593",
   "metadata": {
    "id": "838a7593"
   },
   "outputs": [],
   "source": [
    "my_num = '112'\n",
    "my_num_int = int(my_num)\n",
    "print(type(my_num), type(my_num_int)) # str, int\n",
    "print(my_num_int) # 112\n",
    "\n",
    "my_data = {1,2,3}\n",
    "my_data_list = list(my_data)\n",
    "print(type(my_data), type(my_data_list)) # set, list\n",
    "print(my_data_list) # [1, 2, 3]"
   ]
  },
  {
   "cell_type": "markdown",
   "id": "fa520925",
   "metadata": {
    "id": "fa520925"
   },
   "source": [
    "#### 배경지식 퀴즈 4. 1차원 배열 탐색하기\n",
    "\n",
    "< Input >  (2줄에 걸쳐, 띄어쓰기로 구분된 각 과일 이름(중복x), 찾아야 할 과일 이름 입력)\n",
    "\n",
    "    apple cherry kiwi melon banana\n",
    "    cherry\n",
    "    \n",
    "< Output >\n",
    "\n",
    "    cherry 발견!\n",
    "    cherry의 index는 1"
   ]
  },
  {
   "cell_type": "code",
   "execution_count": null,
   "id": "b100f446",
   "metadata": {
    "id": "b100f446"
   },
   "outputs": [],
   "source": [
    "# 풀이\n",
    "\n",
    "fruits = input().split()\n",
    "target = input()\n",
    "\n",
    "for fruit in fruits:  # ['apple', 'cherry', 'kiwi', 'melon', 'banana']\n",
    "    if fruit != target:\n",
    "        continue\n",
    "    print(f'{target} 발견!')\n",
    "    print(f'{target}의 index는 {fruits.index(target)}')\n",
    "    break\n"
   ]
  },
  {
   "cell_type": "code",
   "execution_count": null,
   "id": "bf105b82",
   "metadata": {
    "id": "bf105b82"
   },
   "outputs": [],
   "source": [
    "fruits = input().split()   # apple cherry kiwi melon banana\n",
    "# print(fruits)\n",
    "target = input()\n",
    "\n",
    "for i in range(len(fruits)):  # ['apple', 'cherry', 'kiwi', 'melon', 'banana']\n",
    "    if fruits[i] != target:\n",
    "        continue\n",
    "    print(f'{target} 발견!')\n",
    "    print(f'{target}의 index는 {i}')\n",
    "    break"
   ]
  },
  {
   "cell_type": "markdown",
   "id": "c28f0b29",
   "metadata": {
    "id": "c28f0b29"
   },
   "source": [
    "#### 배경지식 퀴즈 5. 2차원 배열 순회하기\n",
    "\n",
    "< Input >  \n",
    "\n",
    "    matrix = [\n",
    "        [1, 2, 3],\n",
    "        [4, 5, 6],\n",
    "        [7, 8, 9]\n",
    "    ]\n",
    "    \n",
    "    target = 5\n",
    "    \n",
    "< Output >\n",
    "\n",
    "출력   (타겟을 찾을 때까지만 각 element를 순회하며 '현재 위치(인덱스), 현재 element' 출력. 종료 후 찾았는지 못 찾았는지 메시지 출력)\n",
    "\n",
    "    position : 0,0, element : 1\n",
    "    position : 0,1, element : 2\n",
    "    position : 0,2, element : 3\n",
    "    position : 1,0, element : 4\n",
    "    position : 1,1, element : 5\n",
    "    target이 matrix안에 있나요? True"
   ]
  },
  {
   "cell_type": "code",
   "execution_count": null,
   "id": "7cfce78c",
   "metadata": {
    "id": "7cfce78c"
   },
   "outputs": [],
   "source": [
    "# 2차원 배열 정의\n",
    "matrix = [\n",
    "    [1, 2, 3],\n",
    "    [4, 5, 6],\n",
    "    [7, 8, 9]\n",
    "]\n",
    "\n",
    "# 찾고자 하는 숫자\n",
    "target = 5\n",
    "\n",
    "N = len(matrix)\n",
    "M = len(matrix[0])\n",
    "\n",
    "found = False\n",
    "for i in range(N):\n",
    "    for j in range(M):\n",
    "        elem = matrix[i][j]\n",
    "        print(f\"position : {i},{j}, element : {elem}\")\n",
    "        if elem == target:\n",
    "            found = True\n",
    "            break\n",
    "    if found: break\n",
    "\n",
    "print('target이 matrix안에 있나요?', found)"
   ]
  },
  {
   "cell_type": "markdown",
   "id": "0ca37cca",
   "metadata": {
    "id": "0ca37cca"
   },
   "source": [
    "#### 배경지식 퀴즈 6. 인덱싱이 가능한 자료형        \n",
    "\n",
    "서로 다른 자료형인 아래 네 가지 객체들 중, indexing이 가능한 것을 고르시오."
   ]
  },
  {
   "cell_type": "code",
   "execution_count": null,
   "id": "d3c2681c",
   "metadata": {
    "id": "d3c2681c"
   },
   "outputs": [],
   "source": [
    "my_list = [1,2,3,4]\n",
    "my_tuple = (1,2,3,4)\n",
    "my_set = {1,2,3,4}\n",
    "my_dict = {1:'a',2:'b',3:'c',4:'d'}"
   ]
  }
 ],
 "metadata": {
  "celltoolbar": "Slideshow",
  "colab": {
   "provenance": []
  },
  "kernelspec": {
   "display_name": "Python 3 (ipykernel)",
   "language": "python",
   "name": "python3"
  },
  "language_info": {
   "codemirror_mode": {
    "name": "ipython",
    "version": 3
   },
   "file_extension": ".py",
   "mimetype": "text/x-python",
   "name": "python",
   "nbconvert_exporter": "python",
   "pygments_lexer": "ipython3",
   "version": "3.12.2"
  }
 },
 "nbformat": 4,
 "nbformat_minor": 5
}
