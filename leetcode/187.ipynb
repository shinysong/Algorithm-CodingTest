{
 "cells": [
  {
   "cell_type": "markdown",
   "id": "edeb2410",
   "metadata": {},
   "source": [
    "# 187. Repeated DNA Sequences\n",
    "\n",
    "The DNA sequence is composed of a series of nucleotides abbreviated as 'A', 'C', 'G', and 'T'.\n",
    "\n",
    "For example, \"ACGAATTCCG\" is a DNA sequence.\n",
    "When studying DNA, it is useful to identify repeated sequences within the DNA.\n",
    "\n",
    "Given a string s that represents a DNA sequence, return all the 10-letter-long sequences (substrings) that occur more than once in a DNA molecule. You may return the answer in any order.\n",
    "\n",
    " \n",
    "\n",
    "#### Example 1:\n",
    "\n",
    "Input: s = \"AAAAACCCCCAAAAACCCCCCAAAAAGGGTTT\"  \n",
    "Output: [\"AAAAACCCCC\",\"CCCCCAAAAA\"]  \n",
    "Example 2:  \n",
    "\n",
    "Input: s = \"AAAAAAAAAAAAA\"  \n",
    "Output: [\"AAAAAAAAAA\"]  \n",
    "   \n",
    "\n",
    "#### Constraints:  \n",
    "\n",
    "1 <= s.length <= 105  \n",
    "s[i] is either 'A', 'C', 'G', or 'T'.  "
   ]
  },
  {
   "cell_type": "code",
   "execution_count": null,
   "id": "9930bc84",
   "metadata": {},
   "outputs": [],
   "source": [
    "class Solution:\n",
    "    def findRepeatedDnaSequences(self, s: str) -> List[str]:\n",
    "        ans, seen = set(), set()\n",
    "        for i in range(len(s)-9):\n",
    "            dna = s[i:i+10]\n",
    "            if dna in seen:\n",
    "                ans.add(dna)\n",
    "            else:\n",
    "                seen.add(dna)\n",
    "        return list(ans)"
   ]
  },
  {
   "cell_type": "markdown",
   "id": "7e5cd414",
   "metadata": {},
   "source": [
    "**문제 요약**  \n",
    "DNA 서열이 주어졌을 때, 길이가 정확히 10인 부분 문자열(substring) 중에서 두 번 이상 등장하는 문자열을 찾아 리스트로 반환하는 문제이다.\n",
    "\n",
    "**핵심 아이디어**  \n",
    "문자열에서 10글자씩 잘라가며 중복 여부를 확인하는 방식이다. 이때 set 자료구조를 이용해 이미 본 서열은 저장해두고, 다시 등장하면 결과 집합에 추가한다.  \n",
    "결과도 set에 저장함으로써 중복된 결과가 리스트에 중복되어 들어가는 것을 방지한다.\n",
    "\n",
    "**시간 복잡도**는 O(n), 공간 복잡도도 O(n)으로 비교적 효율적인 풀이 방식이다.  \n",
    "슬라이딩 윈도우와 집합(Set)을 조합한 전형적인 중복 탐지 문제로, 문자열 관련 문제에서 자주 쓰이는 패턴이다.\n",
    "\n",
    "**배운 점**  \n",
    "- 중복 체크는 Set을 사용하는 것이 가장 효율적이다.\n",
    "- 슬라이딩 윈도우는 일정 길이의 서브스트링을 반복적으로 비교할 때 좋은 방법이다.\n",
    "- 결과값이 중복되지 않도록 중간 단계에서도 set을 적극 활용할 수 있다.\n",
    "\n",
    "---\n",
    "\n",
    "### 참고: 더 직관적인 코드가 있을까?\n",
    "\n",
    "현재 방식도 충분히 깔끔하고 효율적이지만, 직관적으로 \"한 번 등장한 것과 두 번 이상 등장한 것을 따로 관리\"하는 방식이 가독성 측면에서 도움이 될 수 있다. 예를 들어 `collections.defaultdict(int)`를 사용하는 방법도 있다:\n",
    "\n",
    "```python\n",
    "from collections import defaultdict\n",
    "\n",
    "def findRepeatedDnaSequences(s):\n",
    "    count = defaultdict(int)\n",
    "    result = []\n",
    "\n",
    "    for i in range(len(s) - 9):\n",
    "        substring = s[i:i+10]\n",
    "        count[substring] += 1\n",
    "        if count[substring] == 2:\n",
    "            result.append(substring)\n",
    "\n",
    "    return result\n",
    "```\n",
    "\n",
    "이 방식은 각 서열의 등장 횟수를 명시적으로 저장하므로, 몇 번 나왔는지 추적하기 쉬워 가독성이 더 좋을 수 있다. 단점은 메모리 사용량이 조금 더 많아질 수 있다는 점이다."
   ]
  },
  {
   "cell_type": "markdown",
   "id": "a27e284b",
   "metadata": {},
   "source": []
  }
 ],
 "metadata": {
  "language_info": {
   "name": "python"
  }
 },
 "nbformat": 4,
 "nbformat_minor": 5
}
