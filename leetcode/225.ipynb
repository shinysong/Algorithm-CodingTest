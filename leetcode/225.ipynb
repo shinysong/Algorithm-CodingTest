{
 "cells": [
  {
   "cell_type": "markdown",
   "metadata": {},
   "source": [
    "# 225. Implement Stack using Queues\n",
    "\n",
    "Implement a last-in-first-out (LIFO) stack using only two queues. The implemented stack should support all the functions of a normal stack (push, top, pop, and empty).\n",
    "\n",
    "Implement the MyStack class:\n",
    "\n",
    "void push(int x) Pushes element x to the top of the stack.\n",
    "int pop() Removes the element on the top of the stack and returns it.\n",
    "int top() Returns the element on the top of the stack.\n",
    "boolean empty() Returns true if the stack is empty, false otherwise.\n",
    "Notes:\n",
    "\n",
    "You must use only standard operations of a queue, which means that only push to back, peek/pop from front, size and is empty operations are valid.\n",
    "Depending on your language, the queue may not be supported natively. You may simulate a queue using a list or deque (double-ended queue) as long as you use only a queue's standard operations."
   ]
  },
  {
   "cell_type": "markdown",
   "metadata": {},
   "source": []
  },
  {
   "cell_type": "code",
   "execution_count": 1,
   "metadata": {},
   "outputs": [],
   "source": [
    "from collections import deque\n",
    "\n",
    "class MyStack:\n",
    "    \n",
    "    def __init__(self):\n",
    "        self.q1 = deque()\n",
    "        self.q2 = deque()\n",
    "        \n",
    "    def push(self, x: int) -> None:\n",
    "        self.q2.append(x) # 새 값은 임시 q2에 넣고 \n",
    "        while self.q1: # self.q1이 빈 배열이 아니면\n",
    "            self.q2.append(self.q1.popleft()) # 기존 값은 모두 q2 뒤에 붙이기\n",
    "        self.q1, self.q2 = self.q2, self.q1 # 서로 교체됨. \n",
    "\n",
    "    def pop(self) -> int:\n",
    "        return self.q1.popleft()\n",
    "        \n",
    "\n",
    "    def top(self) -> int:\n",
    "        return self.q1[0]\n",
    "\n",
    "    def empty(self) -> bool:\n",
    "        return not self.q1\n",
    "\n",
    "    def to_list(self): # 조회를 위한 추가 함수\n",
    "        return list(self.q1) \n",
    "# Your MyStack object will be instantiated and called as such:\n",
    "# obj = MyStack()\n",
    "# obj.push(x)\n",
    "# param_2 = obj.pop()\n",
    "# param_3 = obj.top()\n",
    "# param_4 = obj.empty()"
   ]
  },
  {
   "cell_type": "code",
   "execution_count": 2,
   "metadata": {},
   "outputs": [
    {
     "name": "stdout",
     "output_type": "stream",
     "text": [
      "[3, 2, 1]\n"
     ]
    }
   ],
   "source": [
    "stack = MyStack()\n",
    "stack.push(1)\n",
    "stack.push(2)\n",
    "stack.push(3)\n",
    "\n",
    "print(stack.to_list())  # [3, 2, 1] ← 3이 top임\n"
   ]
  },
  {
   "cell_type": "code",
   "execution_count": null,
   "metadata": {},
   "outputs": [],
   "source": []
  },
  {
   "cell_type": "markdown",
   "metadata": {},
   "source": [
    "## 📝 Today I Learned (2025-04-05)\n",
    "\n",
    "### 두 개의 큐(Queue)를 사용해서 스택(Stack) 구현하기\n",
    "- **문제 목표**: FIFO 구조인 큐만을 이용해 LIFO 구조인 스택을 흉내내는 클래스 `MyStack`을 구현하는 것.\n",
    "- **자료구조**: 파이썬의 `collections.deque`를 이용해 큐를 시뮬레이션함.\n",
    "- **허용된 연산**: 큐의 표준 연산만 사용할 수 있음 (`append`, `popleft`, `len`, `not` 등).\n",
    "\n",
    "---\n",
    "\n",
    "### 구현 전략: push 시 순서를 재정렬하는 방식\n",
    "- 두 개의 `deque` 큐(`q1`, `q2`)를 사용하여 새로 들어온 요소가 항상 **맨 앞(front)** 에 위치하게 함.\n",
    "- `push(x)` 시:\n",
    "  1. 새 요소 `x`를 임시 큐 `q2`에 추가하고\n",
    "  2. 기존 메인 큐 `q1`의 모든 요소를 `q2`로 이동\n",
    "  3. `q1`, `q2`를 교환하여 `q1`이 항상 최신 상태를 유지하도록 구성\n",
    "\n",
    "---\n",
    "\n",
    "### 추가 메서드\n",
    "- `to_list()`: 현재 스택 상태를 리스트로 반환 (디버깅용 유틸리티)\n",
    "\n",
    "---\n",
    "\n",
    "### 시간복잡도 분석\n",
    "\n",
    "| 연산 | 시간복잡도 |\n",
    "|------|-------------|\n",
    "| `push(x)` | O(n) ← 기존 요소 재정렬 |\n",
    "| `pop()` | O(1) |\n",
    "| `top()` | O(1) |\n",
    "| `empty()` | O(1) |\n",
    "\n",
    "---\n",
    "\n",
    "### 배운 점 요약\n",
    "\n",
    "- 큐를 이용해 스택을 구현하려면 **연산 중 하나를 희생**해야 하며, 이 구현에서는 `push`에서 O(n)의 비용을 감수하고 `pop`, `top`을 O(1)로 최적화했다.\n",
    "- 큐 2개로 구성된 스택은 내부 구조가 직관적이지 않기 때문에, 상태 확인용 `to_list()` 같은 유틸리티 메서드가 있으면 디버깅에 도움이 된다."
   ]
  },
  {
   "cell_type": "markdown",
   "metadata": {},
   "source": []
  }
 ],
 "metadata": {
  "kernelspec": {
   "display_name": "base",
   "language": "python",
   "name": "python3"
  },
  "language_info": {
   "codemirror_mode": {
    "name": "ipython",
    "version": 3
   },
   "file_extension": ".py",
   "mimetype": "text/x-python",
   "name": "python",
   "nbconvert_exporter": "python",
   "pygments_lexer": "ipython3",
   "version": "3.8.11"
  }
 },
 "nbformat": 4,
 "nbformat_minor": 2
}
