{
 "cells": [
  {
   "cell_type": "markdown",
   "id": "b622e2e7",
   "metadata": {},
   "source": [
    "# 2283. Check if Number Has Equal Digit Count and Digit Value\n",
    "You are given a 0-indexed string num of length n consisting of digits.\n",
    "\n",
    "Return true if for every index i in the range 0 <= i < n, the digit i occurs num[i] times in num, otherwise return false.\n",
    "\n",
    "##### Example 1:\n",
    "\n",
    "Input: num = \"1210\"  \n",
    "Output: true  \n",
    "Explanation:  \n",
    "num[0] = '1'. The digit 0 occurs once in num.  \n",
    "num[1] = '2'. The digit 1 occurs twice in num.  \n",
    "num[2] = '1'. The digit 2 occurs once in num.  \n",
    "num[3] = '0'. The digit 3 occurs zero times in num.  \n",
    "The condition holds true for every index in \"1210\", so return true.\n",
    "##### Example 2:\n",
    "\n",
    "Input: num = \"030\"  \n",
    "Output: false  \n",
    "Explanation:  \n",
    "num[0] = '0'. The digit 0 should occur zero times, but actually occurs twice in num.  \n",
    "num[1] = '3'. The digit 1 should occur three times, but actually occurs zero times in num.  \n",
    "num[2] = '0'. The digit 2 occurs zero times in num.  \n",
    "The indices 0 and 1 both violate the condition, so return false.  \n",
    " \n",
    "##### Constraints:\n",
    "\n",
    "n == num.length  \n",
    "1 <= n <= 10  \n",
    "num consists of digits.  "
   ]
  },
  {
   "cell_type": "markdown",
   "id": "799e84df",
   "metadata": {},
   "source": [
    "- 주어진 num을 사용해 등장횟수를 계산한 배열을 하나 만들어보기"
   ]
  },
  {
   "cell_type": "code",
   "execution_count": null,
   "id": "80fc61d1",
   "metadata": {},
   "outputs": [],
   "source": [
    "num = \"1210\"\n",
    "tmp = [0,0,0,0,0,0,0,0,0,0]\n",
    "for i in range(10):\n",
    "    str_i = str(i)\n",
    "    cnt = 0\n",
    "    for s in num:\n",
    "        if s == str_i:\n",
    "            cnt += 1\n",
    "    tmp[i] = cnt\n",
    "\n",
    "tmp = list(map(str, tmp))\n",
    "num_tmp = ''.join(tmp[0:len(num)])\n",
    "\n",
    "if num == num_tmp:\n",
    "    return True\n",
    "else:\n",
    "    return False"
   ]
  },
  {
   "cell_type": "code",
   "execution_count": null,
   "id": "646cfd0c",
   "metadata": {},
   "outputs": [],
   "source": [
    "# 제출용\n",
    "\n",
    "class Solution:\n",
    "    def digitCount(self, num: str) -> bool:\n",
    "        tmp = [0,0,0,0,0,0,0,0,0,0]\n",
    "        for i in range(10):\n",
    "            str_i = str(i)\n",
    "            cnt = 0\n",
    "            for s in num:\n",
    "                if s == str_i:\n",
    "                    cnt += 1\n",
    "            tmp[i] = cnt\n",
    "\n",
    "        tmp = list(map(str, tmp))\n",
    "        num_tmp = ''.join(tmp[0:len(num)])\n",
    "\n",
    "        if num == num_tmp:\n",
    "            return True\n",
    "        else:\n",
    "            return False"
   ]
  },
  {
   "cell_type": "code",
   "execution_count": 27,
   "id": "0cb849eb",
   "metadata": {},
   "outputs": [
    {
     "name": "stdout",
     "output_type": "stream",
     "text": [
      "False\n"
     ]
    }
   ],
   "source": [
    "s = Solution()\n",
    "result = s.digitCount(\"030\")\n",
    "print(result)"
   ]
  },
  {
   "cell_type": "markdown",
   "id": "1a067843",
   "metadata": {},
   "source": [
    "## 개선된 코드\n",
    "- with chatGPT\n",
    "- count의 인덱스를 처음부터 num을 참조하여 만들기\n",
    "- for문으로 각 인덱스마다 비교하여 같은지 비교하기"
   ]
  },
  {
   "cell_type": "code",
   "execution_count": 29,
   "id": "01c88171",
   "metadata": {},
   "outputs": [],
   "source": [
    "# Counter 사용한 버전\n",
    "from collections import Counter\n",
    "\n",
    "class Solution:\n",
    "    def digitCount(self, num: str) -> bool:\n",
    "        count = Counter(num)\n",
    "        for i, ch in enumerate(num):\n",
    "            if int(ch) != count[str(i)]:\n",
    "                return False\n",
    "        return True\n"
   ]
  },
  {
   "cell_type": "code",
   "execution_count": 28,
   "id": "d5bc4ddf",
   "metadata": {},
   "outputs": [],
   "source": [
    "# Counter없이 반복문으로 사용한 버전\n",
    "class Solution:\n",
    "    def digitCount(self, num: str) -> bool:\n",
    "        count = [0] * 10\n",
    "        for ch in num:\n",
    "            count[int(ch)] += 1\n",
    "        for i in range(len(num)):\n",
    "            if int(num[i]) != count[i]:\n",
    "                return False\n",
    "        return True\n"
   ]
  },
  {
   "cell_type": "markdown",
   "id": "17ed279b",
   "metadata": {},
   "source": [
    "## 📝 Today I Learned: LeetCode 2283 – Check if Number Has Equal Digit Count and Digit Value\n",
    "\n",
    "### 문제 개요\n",
    "\n",
    "주어진 문자열 `num`에서, 각 인덱스 `i`에 있는 숫자가 **문자열 내에서 숫자 `i`가 등장한 횟수**와 같은지를 판별하는 문제.  \n",
    "`num[i] == count(str(i))` 조건이 문자열 전체에 대해 만족하면 `true`, 그렇지 않으면 `false`를 반환해야 한다.\n",
    "\n",
    "---\n",
    "\n",
    "### 문제 접근 방식\n",
    "\n",
    "- 0~9까지 숫자의 등장 횟수를 세기 위한 리스트 `tmp`를 선언\n",
    "- 문자열 전체를 순회하면서 각 숫자의 등장 횟수를 계산\n",
    "- 최종적으로 `tmp`를 문자열로 변환한 뒤, `num`과 비교하여 정답 여부 판단\n",
    "\n",
    "---\n",
    "\n",
    "### 내가 작성한 코드의 요약\n",
    "\n",
    "- 길이 10의 리스트를 사용하여 각 숫자의 등장 횟수를 저장\n",
    "- 두 번째 루프에서 문자열 `num`의 인덱스에 해당하는 등장 횟수와 실제 `num[i]` 값을 비교\n",
    "- `tmp`를 문자열로 조합하고, 앞에서부터 `len(num)` 길이만큼 잘라 `num`과 일치하는지 확인\n",
    "- 정답 판별은 정확했으며, 모든 예외 조건도 안정적으로 처리됨\n",
    "\n",
    "**장점**\n",
    "- 로직이 명확하고 구현 방식이 정직함\n",
    "- 입력 길이가 작기 때문에 성능상 문제 없음\n",
    "\n",
    "**개선 가능성**\n",
    "- 문자열 변환 없이 인덱스마다 바로 비교해도 충분함\n",
    "- 등장 횟수 계산을 직접 구현하지 않고, `collections.Counter`를 활용하면 간결하고 표현력이 좋아짐\n",
    "\n",
    "---\n",
    "\n",
    "### 개선된 코드의 요약\n",
    "\n",
    "- `collections.Counter`를 활용하여 등장 횟수를 한 줄로 계산\n",
    "- `enumerate()`로 문자열을 순회하며 인덱스별로 `num[i]`와 `count[str(i)]`를 즉시 비교\n",
    "- 메모리 및 연산량 측면에서도 더 직관적이며, 파이썬다운 코드 스타일을 활용함\n",
    "\n",
    "**장점**\n",
    "- 코드가 간결해지고 가독성이 향상됨\n",
    "- 문제의 핵심 조건을 바로 표현하므로 유지보수나 디버깅에 유리함\n",
    "\n",
    "---\n",
    "\n",
    "### 배운 점\n",
    "\n",
    "- 문자열 내 숫자 빈도를 처리하는 문제에서 리스트 또는 `Counter`를 활용한 접근이 매우 유용함\n",
    "- 불필요한 문자열 조합 없이 인덱스 비교로도 로직이 충분히 처리 가능함\n",
    "- 간단한 로직이라도 문제의 조건을 정확히 분석하고, 다양한 구현 방식과 비교해보는 과정이 중요함\n"
   ]
  },
  {
   "cell_type": "code",
   "execution_count": null,
   "id": "6406c215",
   "metadata": {},
   "outputs": [],
   "source": []
  }
 ],
 "metadata": {
  "kernelspec": {
   "display_name": "Python 3",
   "language": "python",
   "name": "python3"
  },
  "language_info": {
   "codemirror_mode": {
    "name": "ipython",
    "version": 3
   },
   "file_extension": ".py",
   "mimetype": "text/x-python",
   "name": "python",
   "nbconvert_exporter": "python",
   "pygments_lexer": "ipython3",
   "version": "3.10.10"
  }
 },
 "nbformat": 4,
 "nbformat_minor": 5
}
