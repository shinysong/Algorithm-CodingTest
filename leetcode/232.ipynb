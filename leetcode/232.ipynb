{
 "cells": [
  {
   "cell_type": "markdown",
   "metadata": {},
   "source": [
    "# 232. Implement Queue using Stacks\n",
    "\n",
    "Implement a first in first out (FIFO) queue using only two stacks. The implemented queue should support all the functions of a normal queue (push, peek, pop, and empty).\n",
    "\n",
    "Implement the MyQueue class:\n",
    "\n",
    "void push(int x) Pushes element x to the back of the queue.\n",
    "int pop() Removes the element from the front of the queue and returns it.\n",
    "int peek() Returns the element at the front of the queue.\n",
    "boolean empty() Returns true if the queue is empty, false otherwise.\n",
    "Notes:\n",
    "\n",
    "You must use only standard operations of a stack, which means only push to top, peek/pop from top, size, and is empty operations are valid.\n",
    "Depending on your language, the stack may not be supported natively. You may simulate a stack using a list or deque (double-ended queue) as long as you use only a stack's standard operations.\n"
   ]
  },
  {
   "cell_type": "markdown",
   "metadata": {},
   "source": [
    "- 2개의 스택을 사용하여 큐를 구현하는 문제\n",
    "- 이때 클래스를 통해 4개의 메소드를 구현해야함"
   ]
  },
  {
   "cell_type": "code",
   "execution_count": null,
   "metadata": {},
   "outputs": [],
   "source": [
    "class MyQueue:\n",
    "    def __init__(self):\n",
    "        self.in_stack = []   # 들어오는 스택 (push용)\n",
    "        self.out_stack = []  # 나가는 스택 (pop, peek용)\n",
    "\n",
    "    def push(self, x: int) -> None:\n",
    "        self.in_stack.append(x)\n",
    "\n",
    "    def pop(self) -> int:\n",
    "        if not self.out_stack: # 리스트가 비었는지 확인 / 비어있지 않다면 이미 뒤집어 놓은 배열이 존재한다는 의미\n",
    "            while self.in_stack: # in_stack이 빈 배열이 될 때까지\n",
    "                self.out_stack.append(self.in_stack.pop()) # out_stack 배열에 pop()을 사용하여 역순으로 넣기\n",
    "        return self.out_stack.pop() # 역순으로 들어간 out_stack에서 pop()하면 in_stack의 가장 처음 요소임\n",
    "\n",
    "    def peek(self) -> int:\n",
    "        if not self.out_stack: # 리스트가 비었는지 확인\n",
    "            while self.in_stack:  # in_stack이 빈 배열이 될 때까지\n",
    "                self.out_stack.append(self.in_stack.pop()) # out_stack 배열에 pop()을 사용하여 역순으로 넣기\n",
    "        return self.out_stack[-1]  # pop은 안 하고 보기만 함\n",
    "\n",
    "    def empty(self) -> bool:\n",
    "        return not self.in_stack and not self.out_stack # 2개의 스택 모두 값이 존재하는지 체크\n",
    "\n"
   ]
  },
  {
   "cell_type": "markdown",
   "metadata": {},
   "source": [
    "- 만약 조회를 하고 싶다면?\n",
    "- 새로운 함수를 만들어서 조회해야함."
   ]
  },
  {
   "cell_type": "code",
   "execution_count": null,
   "metadata": {},
   "outputs": [],
   "source": []
  },
  {
   "cell_type": "code",
   "execution_count": 1,
   "metadata": {},
   "outputs": [],
   "source": [
    "class MyQueue:\n",
    "    def __init__(self):\n",
    "        self.in_stack = []   # 들어오는 스택 (push용)\n",
    "        self.out_stack = []  # 나가는 스택 (pop, peek용)\n",
    "\n",
    "    def push(self, x: int) -> None:\n",
    "        self.in_stack.append(x)\n",
    "\n",
    "    def pop(self) -> int:\n",
    "        if not self.out_stack: # 리스트가 비었는지 확인 / 비어있지 않다면 이미 뒤집어 놓은 배열이 존재한다는 의미\n",
    "            while self.in_stack: # in_stack이 빈 배열이 될 때까지\n",
    "                self.out_stack.append(self.in_stack.pop()) # out_stack 배열에 pop()을 사용하여 역순으로 넣기\n",
    "        return self.out_stack.pop() # 역순으로 들어간 out_stack에서 pop()하면 in_stack의 가장 처음 요소임\n",
    "\n",
    "    def peek(self) -> int:\n",
    "        if not self.out_stack: # 리스트가 비었는지 확인\n",
    "            while self.in_stack:  # in_stack이 빈 배열이 될 때까지\n",
    "                self.out_stack.append(self.in_stack.pop()) # out_stack 배열에 pop()을 사용하여 역순으로 넣기\n",
    "        return self.out_stack[-1]  # pop은 안 하고 보기만 함\n",
    "\n",
    "    def empty(self) -> bool:\n",
    "        return not self.in_stack and not self.out_stack # 2개의 스택 모두 값이 존재하는지 체크\n",
    "\n",
    "    def to_list(self):\n",
    "        # out_stack은 이미 역순이기 때문에, 다시 뒤집어야 원래 순서대로 됨\n",
    "        return self.out_stack[::-1] + self.in_stack\n"
   ]
  },
  {
   "cell_type": "markdown",
   "metadata": {},
   "source": [
    "- out_stack을 다시 역순으로 하기 위해 역순 슬라이싱([::-1])을 해준 뒤, in_stack을 더해줌"
   ]
  },
  {
   "cell_type": "code",
   "execution_count": 2,
   "metadata": {},
   "outputs": [
    {
     "name": "stdout",
     "output_type": "stream",
     "text": [
      "[1, 2, 3]\n",
      "[2, 3]\n"
     ]
    }
   ],
   "source": [
    "q = MyQueue()\n",
    "q.push(1)\n",
    "q.push(2)\n",
    "q.push(3)\n",
    "print(q.to_list())  # [1, 2, 3]\n",
    "q.pop()\n",
    "print(q.to_list())  # [2, 3]\n"
   ]
  },
  {
   "cell_type": "markdown",
   "metadata": {},
   "source": [
    "## 📝 Today I Learned (2025-04-03)\n",
    "\n",
    "### 큐(Queue)를 스택(Stack) 두 개로 구현하는 방법\n",
    "\n",
    "- 스택은 LIFO(Last-In-First-Out), 큐는 FIFO(First-In-First-Out) 구조이다.\n",
    "- 스택 두 개를 활용해 큐의 동작을 흉내낼 수 있다.\n",
    "\n",
    "### 스택 2개를 사용하는 이유\n",
    "\n",
    "- 스택 1개만으로 구현하면 `pop(0)` 같은 비효율적인 연산(O(n))이 필요하다.\n",
    "- `in_stack`(입력용)과 `out_stack`(출력용)을 나눠서 사용하면 **평균 시간복잡도 O(1)** 로 효율적으로 큐를 구현할 수 있다.\n",
    "- `push`는 in_stack에 넣고, `pop`이나 `peek`을 할 때 out_stack이 비어있으면 in_stack에서 데이터를 옮겨 역순 정렬한다.\n",
    "\n",
    "### 문법 정리\n",
    "\n",
    "- `if not stack:` → 스택이 비었는지 확인하는 파이썬 방식 (`len(stack) == 0` 과 동일)\n",
    "- `[::-1]` → 리스트를 뒤집는 슬라이싱 문법 (역순 정렬)\n",
    "\n",
    "### 큐의 상태를 조회하려면?\n",
    "\n",
    "- `out_stack[::-1] + in_stack` 을 사용하여 현재 큐의 전체 상태를 리스트로 표현할 수 있다.\n",
    "- `out_stack`은 역순 상태이므로 다시 뒤집어야 올바른 순서가 된다."
   ]
  },
  {
   "cell_type": "markdown",
   "metadata": {},
   "source": []
  }
 ],
 "metadata": {
  "kernelspec": {
   "display_name": "Python 3",
   "language": "python",
   "name": "python3"
  },
  "language_info": {
   "codemirror_mode": {
    "name": "ipython",
    "version": 3
   },
   "file_extension": ".py",
   "mimetype": "text/x-python",
   "name": "python",
   "nbconvert_exporter": "python",
   "pygments_lexer": "ipython3",
   "version": "3.10.10"
  }
 },
 "nbformat": 4,
 "nbformat_minor": 2
}
