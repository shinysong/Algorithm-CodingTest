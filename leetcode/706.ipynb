{
 "cells": [
  {
   "cell_type": "markdown",
   "id": "4a47e1eb",
   "metadata": {},
   "source": [
    "# 706. Design HashMap\n",
    "\n",
    "Design a HashMap without using any built-in hash table libraries.\n",
    "\n",
    "Implement the MyHashMap class:\n",
    "\n",
    "- MyHashMap() initializes the object with an empty map.\n",
    "- void put(int key, int value) inserts a (key, value) pair into the HashMap. If the key already exists in the map, update the corresponding value.\n",
    "- int get(int key) returns the value to which the specified key is mapped, or -1 if this map contains no mapping for the key.\n",
    "- void remove(key) removes the key and its corresponding value if the map contains the mapping for the key."
   ]
  },
  {
   "cell_type": "markdown",
   "id": "a92020a5",
   "metadata": {},
   "source": [
    "- 해시는 키와 값으로 이루어진 자료구조임\n",
    "- 키를 해시함수로 인덱스로 변환해서 배열의 그 위치에 값을 저장함\n",
    "- 즉, 배열을 미리 만들어두고 index = hash(key) 위치에 (key, value)를 저장함\n",
    "- 해시함수는 인덱스를 반환하니까 저장소 역할을 할 배열을 미리 만들어야함\n",
    "- 해시함수의 구현은 "
   ]
  },
  {
   "cell_type": "markdown",
   "id": "186743ab",
   "metadata": {},
   "source": [
    "### 가장 단순하게 구현"
   ]
  },
  {
   "cell_type": "markdown",
   "id": "f38e8021",
   "metadata": {},
   "source": [
    "- 해시 함수를 별도로 만들지 않고 충분히 큰 배열로만 만들어서 충돌되지 않도록 만든 구조"
   ]
  },
  {
   "cell_type": "code",
   "execution_count": 1,
   "id": "7e3b0607",
   "metadata": {},
   "outputs": [],
   "source": [
    "class MyHashMap:\n",
    "    def __init__(self):\n",
    "        self.data = [None] * 1000001\n",
    "    def put(self, key: int, val: int) -> None:\n",
    "        self.data[key] = val\n",
    "    def get(self, key: int) -> int:\n",
    "        val = self.data[key]\n",
    "        return val if val != None else -1\n",
    "    def remove(self, key: int) -> None:\n",
    "        self.data[key] = None"
   ]
  },
  {
   "cell_type": "code",
   "execution_count": null,
   "id": "e8e825f3",
   "metadata": {},
   "outputs": [],
   "source": []
  },
  {
   "cell_type": "markdown",
   "id": "e2a4765e",
   "metadata": {},
   "source": [
    "### 해시 구현"
   ]
  },
  {
   "cell_type": "markdown",
   "id": "54c5eb8c",
   "metadata": {},
   "source": [
    "- chatGPT 참고\n",
    "- index는 key % size로 부여되도록 간단 해시 함수 구현\n",
    "- 체이닝 방식은 해시 충돌이 일어났을 때 같은 인덱스에 여러 개의 key, value를 리스트(연결 리스트) 형태로 저장하는 방식임"
   ]
  },
  {
   "cell_type": "code",
   "execution_count": 2,
   "id": "03fa9b9d",
   "metadata": {},
   "outputs": [],
   "source": [
    "class MyHashMap:\n",
    "\n",
    "    def __init__(self):\n",
    "        self.size = 1000\n",
    "        self.buckets = [[] for _ in range(self.size)] # [] 하나하나가 체이닝 버킷이 됨\n",
    "\n",
    "    def put(self, key: int, value: int) -> None:\n",
    "        index = key % self.size\n",
    "        bucket = self.buckets[index] # 전체가 아니라 해당 인덱스의 버킷을 의미\n",
    "\n",
    "        for i, (k, v) in enumerate(bucket): # ㅇ\n",
    "            if k == key:\n",
    "                bucket[i] = (key, value) # 같은 인덱스의 버킷 내에 만약 키가 있으면 값을 수정하고 끝. 예: (5,99)가 있는데 (5,20)이 들어오는 경우\n",
    "                return\n",
    "        bucket.append((key, value)) # 키가 없다면 새롭게 추가함 예: (5,99)가 있는데 (1005,11)이 들어오는 경우.\n",
    "\n",
    "    def get(self, key: int) -> int:\n",
    "        index = key % self.size\n",
    "        bucket = self.buckets[index]\n",
    "\n",
    "        for k, v in bucket:\n",
    "            if k == key:\n",
    "                return v\n",
    "        return -1\n",
    "\n",
    "    def remove(self, key: int) -> None:\n",
    "        index = key % self.size\n",
    "        bucket = self.buckets[index]\n",
    "\n",
    "        for i, (k, v) in enumerate(bucket):\n",
    "            if k == key:\n",
    "                bucket.pop(i)\n",
    "                return\n"
   ]
  },
  {
   "cell_type": "markdown",
   "id": "9610eb55",
   "metadata": {},
   "source": [
    "- bucket의 개념이 이해가 안가서, if k==key 부분이 어려웠는데 천천히 보니까 이해됨"
   ]
  },
  {
   "cell_type": "markdown",
   "id": "1afac693",
   "metadata": {},
   "source": []
  },
  {
   "cell_type": "code",
   "execution_count": 3,
   "id": "93bdf040",
   "metadata": {},
   "outputs": [
    {
     "name": "stdout",
     "output_type": "stream",
     "text": [
      "1\n",
      "-1\n",
      "1\n",
      "-1\n"
     ]
    }
   ],
   "source": [
    "myHashMap = MyHashMap()\n",
    "myHashMap.put(1, 1)\n",
    "myHashMap.put(2, 2)\n",
    "print(myHashMap.get(1))  # 출력: 1\n",
    "print(myHashMap.get(3))  # 출력: -1\n",
    "myHashMap.put(2, 1)\n",
    "print(myHashMap.get(2))  # 출력: 1\n",
    "myHashMap.remove(2)\n",
    "print(myHashMap.get(2))  # 출력: -1\n"
   ]
  },
  {
   "cell_type": "code",
   "execution_count": null,
   "id": "d8a53a5a",
   "metadata": {},
   "outputs": [],
   "source": []
  }
 ],
 "metadata": {
  "kernelspec": {
   "display_name": "Python 3",
   "language": "python",
   "name": "python3"
  },
  "language_info": {
   "codemirror_mode": {
    "name": "ipython",
    "version": 3
   },
   "file_extension": ".py",
   "mimetype": "text/x-python",
   "name": "python",
   "nbconvert_exporter": "python",
   "pygments_lexer": "ipython3",
   "version": "3.10.10"
  }
 },
 "nbformat": 4,
 "nbformat_minor": 5
}
