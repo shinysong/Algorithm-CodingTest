{
 "cells": [
  {
   "cell_type": "markdown",
   "metadata": {},
   "source": [
    "# 1유형\n",
    "- 교재 147p 부터 참고"
   ]
  },
  {
   "cell_type": "markdown",
   "metadata": {},
   "source": [
    "#### 필터링, 최솟값, 중앙값\n",
    "1. f5 컬럼이 0이 아닌 데이터(행)을 구하시오\n",
    "2. 앞에서 구한 데이터에 'views' 컬럼 결측치를 'views'컬럼의 최솟값으로 채우기\n",
    "3. 그리고 'views' 컬럼의 중앙값을 계산하여 정수로 구하기"
   ]
  },
  {
   "cell_type": "code",
   "execution_count": 9,
   "metadata": {},
   "outputs": [],
   "source": [
    "import pandas as pd\n",
    "\n",
    "df = pd.read_csv(\"https://raw.githubusercontent.com/lovedlim/bigdata_analyst_cert/main/part1/ch3/type1_data1.csv\")"
   ]
  },
  {
   "cell_type": "code",
   "execution_count": 10,
   "metadata": {},
   "outputs": [
    {
     "name": "stdout",
     "output_type": "stream",
     "text": [
      "<class 'pandas.core.frame.DataFrame'>\n",
      "RangeIndex: 120 entries, 0 to 119\n",
      "Data columns (total 10 columns):\n",
      " #   Column      Non-Null Count  Dtype  \n",
      "---  ------      --------------  -----  \n",
      " 0   id          120 non-null    object \n",
      " 1   age         120 non-null    float64\n",
      " 2   city        120 non-null    object \n",
      " 3   f1          89 non-null     float64\n",
      " 4   f2          120 non-null    int64  \n",
      " 5   f3          91 non-null     object \n",
      " 6   f4          120 non-null    object \n",
      " 7   f5          120 non-null    float64\n",
      " 8   subscribed  120 non-null    object \n",
      " 9   views       116 non-null    float64\n",
      "dtypes: float64(4), int64(1), object(5)\n",
      "memory usage: 9.5+ KB\n"
     ]
    }
   ],
   "source": [
    "df.info()"
   ]
  },
  {
   "cell_type": "code",
   "execution_count": 11,
   "metadata": {},
   "outputs": [
    {
     "data": {
      "text/html": [
       "<div>\n",
       "<style scoped>\n",
       "    .dataframe tbody tr th:only-of-type {\n",
       "        vertical-align: middle;\n",
       "    }\n",
       "\n",
       "    .dataframe tbody tr th {\n",
       "        vertical-align: top;\n",
       "    }\n",
       "\n",
       "    .dataframe thead th {\n",
       "        text-align: right;\n",
       "    }\n",
       "</style>\n",
       "<table border=\"1\" class=\"dataframe\">\n",
       "  <thead>\n",
       "    <tr style=\"text-align: right;\">\n",
       "      <th></th>\n",
       "      <th>id</th>\n",
       "      <th>age</th>\n",
       "      <th>city</th>\n",
       "      <th>f1</th>\n",
       "      <th>f2</th>\n",
       "      <th>f3</th>\n",
       "      <th>f4</th>\n",
       "      <th>f5</th>\n",
       "      <th>subscribed</th>\n",
       "      <th>views</th>\n",
       "    </tr>\n",
       "  </thead>\n",
       "  <tbody>\n",
       "    <tr>\n",
       "      <th>0</th>\n",
       "      <td>id01</td>\n",
       "      <td>2.0</td>\n",
       "      <td>서울</td>\n",
       "      <td>NaN</td>\n",
       "      <td>0</td>\n",
       "      <td>gold</td>\n",
       "      <td>ENFJ</td>\n",
       "      <td>91.297791</td>\n",
       "      <td>2024-07-16</td>\n",
       "      <td>6820.0</td>\n",
       "    </tr>\n",
       "    <tr>\n",
       "      <th>1</th>\n",
       "      <td>id02</td>\n",
       "      <td>9.0</td>\n",
       "      <td>서울</td>\n",
       "      <td>70.0</td>\n",
       "      <td>1</td>\n",
       "      <td>NaN</td>\n",
       "      <td>ENFJ</td>\n",
       "      <td>60.339826</td>\n",
       "      <td>2024-05-12</td>\n",
       "      <td>2534.0</td>\n",
       "    </tr>\n",
       "    <tr>\n",
       "      <th>2</th>\n",
       "      <td>id03</td>\n",
       "      <td>27.0</td>\n",
       "      <td>서울</td>\n",
       "      <td>61.0</td>\n",
       "      <td>1</td>\n",
       "      <td>gold</td>\n",
       "      <td>ISTJ</td>\n",
       "      <td>17.252986</td>\n",
       "      <td>2024-03-16</td>\n",
       "      <td>7312.0</td>\n",
       "    </tr>\n",
       "    <tr>\n",
       "      <th>3</th>\n",
       "      <td>id04</td>\n",
       "      <td>75.0</td>\n",
       "      <td>서울</td>\n",
       "      <td>NaN</td>\n",
       "      <td>2</td>\n",
       "      <td>NaN</td>\n",
       "      <td>INFP</td>\n",
       "      <td>52.667078</td>\n",
       "      <td>2024-07-21</td>\n",
       "      <td>493.0</td>\n",
       "    </tr>\n",
       "    <tr>\n",
       "      <th>4</th>\n",
       "      <td>id05</td>\n",
       "      <td>24.0</td>\n",
       "      <td>서울</td>\n",
       "      <td>85.0</td>\n",
       "      <td>2</td>\n",
       "      <td>NaN</td>\n",
       "      <td>ISFJ</td>\n",
       "      <td>29.269869</td>\n",
       "      <td>2024-03-07</td>\n",
       "      <td>1338.0</td>\n",
       "    </tr>\n",
       "    <tr>\n",
       "      <th>...</th>\n",
       "      <td>...</td>\n",
       "      <td>...</td>\n",
       "      <td>...</td>\n",
       "      <td>...</td>\n",
       "      <td>...</td>\n",
       "      <td>...</td>\n",
       "      <td>...</td>\n",
       "      <td>...</td>\n",
       "      <td>...</td>\n",
       "      <td>...</td>\n",
       "    </tr>\n",
       "    <tr>\n",
       "      <th>97</th>\n",
       "      <td>id97</td>\n",
       "      <td>100.0</td>\n",
       "      <td>경기</td>\n",
       "      <td>NaN</td>\n",
       "      <td>0</td>\n",
       "      <td>gold</td>\n",
       "      <td>INFP</td>\n",
       "      <td>67.886373</td>\n",
       "      <td>2024-03-18</td>\n",
       "      <td>6687.0</td>\n",
       "    </tr>\n",
       "    <tr>\n",
       "      <th>98</th>\n",
       "      <td>id98</td>\n",
       "      <td>39.0</td>\n",
       "      <td>경기</td>\n",
       "      <td>58.0</td>\n",
       "      <td>2</td>\n",
       "      <td>NaN</td>\n",
       "      <td>INFP</td>\n",
       "      <td>98.429899</td>\n",
       "      <td>2024-10-02</td>\n",
       "      <td>865.0</td>\n",
       "    </tr>\n",
       "    <tr>\n",
       "      <th>99</th>\n",
       "      <td>id99</td>\n",
       "      <td>1.0</td>\n",
       "      <td>경기</td>\n",
       "      <td>47.0</td>\n",
       "      <td>0</td>\n",
       "      <td>gold</td>\n",
       "      <td>ESFJ</td>\n",
       "      <td>97.381034</td>\n",
       "      <td>2024-12-02</td>\n",
       "      <td>6090.0</td>\n",
       "    </tr>\n",
       "    <tr>\n",
       "      <th>100</th>\n",
       "      <td>id100</td>\n",
       "      <td>47.0</td>\n",
       "      <td>경기</td>\n",
       "      <td>53.0</td>\n",
       "      <td>0</td>\n",
       "      <td>vip</td>\n",
       "      <td>ESFP</td>\n",
       "      <td>33.308999</td>\n",
       "      <td>2024-02-21</td>\n",
       "      <td>15535.0</td>\n",
       "    </tr>\n",
       "    <tr>\n",
       "      <th>101</th>\n",
       "      <td>id68</td>\n",
       "      <td>35.0</td>\n",
       "      <td>경기</td>\n",
       "      <td>45.0</td>\n",
       "      <td>2</td>\n",
       "      <td>gold</td>\n",
       "      <td>ISFP</td>\n",
       "      <td>67.886373</td>\n",
       "      <td>2024-07-29</td>\n",
       "      <td>8599.0</td>\n",
       "    </tr>\n",
       "  </tbody>\n",
       "</table>\n",
       "<p>102 rows × 10 columns</p>\n",
       "</div>"
      ],
      "text/plain": [
       "        id    age city    f1  f2    f3    f4         f5  subscribed    views\n",
       "0     id01    2.0   서울   NaN   0  gold  ENFJ  91.297791  2024-07-16   6820.0\n",
       "1     id02    9.0   서울  70.0   1   NaN  ENFJ  60.339826  2024-05-12   2534.0\n",
       "2     id03   27.0   서울  61.0   1  gold  ISTJ  17.252986  2024-03-16   7312.0\n",
       "3     id04   75.0   서울   NaN   2   NaN  INFP  52.667078  2024-07-21    493.0\n",
       "4     id05   24.0   서울  85.0   2   NaN  ISFJ  29.269869  2024-03-07   1338.0\n",
       "..     ...    ...  ...   ...  ..   ...   ...        ...         ...      ...\n",
       "97    id97  100.0   경기   NaN   0  gold  INFP  67.886373  2024-03-18   6687.0\n",
       "98    id98   39.0   경기  58.0   2   NaN  INFP  98.429899  2024-10-02    865.0\n",
       "99    id99    1.0   경기  47.0   0  gold  ESFJ  97.381034  2024-12-02   6090.0\n",
       "100  id100   47.0   경기  53.0   0   vip  ESFP  33.308999  2024-02-21  15535.0\n",
       "101   id68   35.0   경기  45.0   2  gold  ISFP  67.886373  2024-07-29   8599.0\n",
       "\n",
       "[102 rows x 10 columns]"
      ]
     },
     "execution_count": 11,
     "metadata": {},
     "output_type": "execute_result"
    }
   ],
   "source": [
    "# 0이 아닌 데이터(행) 구하기\n",
    "df[df['f5'] != 0]\n"
   ]
  },
  {
   "cell_type": "code",
   "execution_count": 12,
   "metadata": {},
   "outputs": [],
   "source": [
    "# 결측치 최솟값으로 채우기\n",
    "df['views'].fillna(df['views'].min(), inplace=True)"
   ]
  },
  {
   "cell_type": "code",
   "execution_count": 14,
   "metadata": {},
   "outputs": [
    {
     "name": "stdout",
     "output_type": "stream",
     "text": [
      "5924\n"
     ]
    }
   ],
   "source": [
    "# views 컬럼 중앙값\n",
    "print(int(df['views'].median()))"
   ]
  },
  {
   "cell_type": "markdown",
   "metadata": {},
   "source": [
    "#### 카테고리, 인덱스, 문자열 슬라이싱"
   ]
  },
  {
   "cell_type": "code",
   "execution_count": 15,
   "metadata": {},
   "outputs": [],
   "source": [
    "import pandas as pd\n",
    "df = pd.read_csv(\"https://raw.githubusercontent.com/lovedlim/bigdata_analyst_cert/main/part1/ch3/type1_data1.csv\")"
   ]
  },
  {
   "cell_type": "code",
   "execution_count": 16,
   "metadata": {},
   "outputs": [
    {
     "name": "stdout",
     "output_type": "stream",
     "text": [
      "<class 'pandas.core.frame.DataFrame'>\n",
      "RangeIndex: 120 entries, 0 to 119\n",
      "Data columns (total 10 columns):\n",
      " #   Column      Non-Null Count  Dtype  \n",
      "---  ------      --------------  -----  \n",
      " 0   id          120 non-null    object \n",
      " 1   age         120 non-null    float64\n",
      " 2   city        120 non-null    object \n",
      " 3   f1          89 non-null     float64\n",
      " 4   f2          120 non-null    int64  \n",
      " 5   f3          91 non-null     object \n",
      " 6   f4          120 non-null    object \n",
      " 7   f5          120 non-null    float64\n",
      " 8   subscribed  120 non-null    object \n",
      " 9   views       116 non-null    float64\n",
      "dtypes: float64(4), int64(1), object(5)\n",
      "memory usage: 9.5+ KB\n"
     ]
    }
   ],
   "source": [
    "# 1. subscribed 컬럼에서 가장 빈도수가 많은 날짜를 구하시오\n",
    "# 2. 앞에서 구한 날짜의 일(day) 값을 정수로 구하시오\n",
    "\n",
    "df.info()"
   ]
  },
  {
   "cell_type": "code",
   "execution_count": null,
   "metadata": {},
   "outputs": [
    {
     "data": {
      "text/plain": [
       "'2025-02-17'"
      ]
     },
     "execution_count": 17,
     "metadata": {},
     "output_type": "execute_result"
    }
   ],
   "source": [
    "# df['subscribed'].max() -> 틀린 거임. 문자열은 가장 뒤에 있는 문자열 반환하고, 날짜이면 가장 최신임. 이번에는 우연하게 맞아떨어진거임임"
   ]
  },
  {
   "cell_type": "code",
   "execution_count": 22,
   "metadata": {},
   "outputs": [
    {
     "data": {
      "text/plain": [
       "17"
      ]
     },
     "execution_count": 22,
     "metadata": {},
     "output_type": "execute_result"
    }
   ],
   "source": [
    "int(df['subscribed'].max()[-2:])"
   ]
  },
  {
   "cell_type": "code",
   "execution_count": 23,
   "metadata": {},
   "outputs": [
    {
     "data": {
      "text/plain": [
       "2025-02-17    16\n",
       "2024-06-21     3\n",
       "2024-04-03     2\n",
       "2024-07-29     2\n",
       "2024-05-28     2\n",
       "              ..\n",
       "2024-07-08     1\n",
       "2024-07-20     1\n",
       "2024-06-10     1\n",
       "2024-02-01     1\n",
       "2024-05-20     1\n",
       "Name: subscribed, Length: 96, dtype: int64"
      ]
     },
     "execution_count": 23,
     "metadata": {},
     "output_type": "execute_result"
    }
   ],
   "source": [
    "df['subscribed'].value_counts()"
   ]
  },
  {
   "cell_type": "markdown",
   "metadata": {},
   "source": [
    "#### 파생변수, 정렬, 인덱싱"
   ]
  },
  {
   "cell_type": "code",
   "execution_count": 25,
   "metadata": {},
   "outputs": [],
   "source": [
    "import pandas as pd\n",
    "df = df.copy()"
   ]
  },
  {
   "cell_type": "code",
   "execution_count": 26,
   "metadata": {},
   "outputs": [
    {
     "name": "stdout",
     "output_type": "stream",
     "text": [
      "<class 'pandas.core.frame.DataFrame'>\n",
      "RangeIndex: 120 entries, 0 to 119\n",
      "Data columns (total 10 columns):\n",
      " #   Column      Non-Null Count  Dtype  \n",
      "---  ------      --------------  -----  \n",
      " 0   id          120 non-null    object \n",
      " 1   age         120 non-null    float64\n",
      " 2   city        120 non-null    object \n",
      " 3   f1          89 non-null     float64\n",
      " 4   f2          120 non-null    int64  \n",
      " 5   f3          91 non-null     object \n",
      " 6   f4          120 non-null    object \n",
      " 7   f5          120 non-null    float64\n",
      " 8   subscribed  120 non-null    object \n",
      " 9   views       116 non-null    float64\n",
      "dtypes: float64(4), int64(1), object(5)\n",
      "memory usage: 9.5+ KB\n"
     ]
    }
   ],
   "source": [
    "df.info()"
   ]
  },
  {
   "cell_type": "code",
   "execution_count": 31,
   "metadata": {},
   "outputs": [
    {
     "name": "stdout",
     "output_type": "stream",
     "text": [
      "423.7826086956522\n"
     ]
    }
   ],
   "source": [
    "# 1. 결측치가 있는 데이터(행)을 제거\n",
    "# 2. views 컬럼을 f1 컬럼으로 나눈 값을 새로운 컬럼으로 추가\n",
    "# 3. 새로운 컬럼 값 중 가장 큰 값을 가진 행의 age를 정수로 구하기\n",
    "\n",
    "df.dropna(inplace=True)\n",
    "\n",
    "df['new'] = df['views'] / df['f1']\n",
    "\n",
    "print(df['new'].max())"
   ]
  },
  {
   "cell_type": "code",
   "execution_count": 37,
   "metadata": {},
   "outputs": [
    {
     "data": {
      "text/plain": [
       "22"
      ]
     },
     "execution_count": 37,
     "metadata": {},
     "output_type": "execute_result"
    }
   ],
   "source": [
    "int(df[df['new'] == df['new'].max()]['age'])"
   ]
  },
  {
   "cell_type": "code",
   "execution_count": 38,
   "metadata": {},
   "outputs": [
    {
     "data": {
      "text/plain": [
       "22"
      ]
     },
     "execution_count": 38,
     "metadata": {},
     "output_type": "execute_result"
    }
   ],
   "source": [
    "# 풀이\n",
    "df = df.dropna()\n",
    "df['new'] = df['views']/df['f1']\n",
    "df = df.sort_values('new', ascending=False)\n",
    "int(df.iloc[0,1])"
   ]
  },
  {
   "cell_type": "markdown",
   "metadata": {},
   "source": [
    "#### 값 변경, 정렬, 합계"
   ]
  },
  {
   "cell_type": "code",
   "execution_count": 40,
   "metadata": {},
   "outputs": [],
   "source": [
    "import pandas as pd\n",
    "df = pd.read_csv(\"https://raw.githubusercontent.com/lovedlim/bigdata_analyst_cert/main/part1/ch3/type1_data1.csv\")"
   ]
  },
  {
   "cell_type": "code",
   "execution_count": 64,
   "metadata": {},
   "outputs": [
    {
     "name": "stdout",
     "output_type": "stream",
     "text": [
      "9877.0\n"
     ]
    }
   ],
   "source": [
    "# 1. views 컬럼의 결측 데이터를 0으로 대체\n",
    "df['views'] = df['views'].fillna(0)\n",
    "# 2. view 컬럼에서 상위 10번째 값 구하기 (빈도수 상위겠죠?)\n",
    "print(df['views'].sort_values(ascending=False).iloc[9]) # 10번째\n",
    "df = df.sort_values('views', ascending=False)\n",
    "view_max_10 = df['views'].sort_values(ascending=False).iloc[9]"
   ]
  },
  {
   "cell_type": "code",
   "execution_count": null,
   "metadata": {},
   "outputs": [],
   "source": [
    "# 3. views 컬럼에서 상위 10개의 값을 10번째 값으로 대체\n",
    "df.iloc[:10, -1] = view_max_10 # -1은 컬럼의 순서를 의미함함\n"
   ]
  },
  {
   "cell_type": "code",
   "execution_count": 75,
   "metadata": {},
   "outputs": [
    {
     "data": {
      "text/plain": [
       "652812"
      ]
     },
     "execution_count": 75,
     "metadata": {},
     "output_type": "execute_result"
    }
   ],
   "source": [
    "# 4. views 컬럼의 전체 합을 정수로 구하기\n",
    "int(sum(df['views']))"
   ]
  },
  {
   "cell_type": "code",
   "execution_count": null,
   "metadata": {},
   "outputs": [
    {
     "data": {
      "text/plain": [
       "9877.0"
      ]
     },
     "execution_count": 77,
     "metadata": {},
     "output_type": "execute_result"
    }
   ],
   "source": [
    "# 다른 방법으로 nlargest를 사용 -> 가장 큰 값 10개를 반환함함\n",
    "df['views'].nlargest(10).iloc[-1] # 10번째를 가져오기 위해 -1을 사요함\n",
    "df.loc[df['views']>value,'views'] = value # loc는 조건을 사용할 수 있음. 10번째보다 큰 값은 그 값으로 대체함함"
   ]
  },
  {
   "cell_type": "markdown",
   "metadata": {},
   "source": [
    "#### 문자열 슬라이싱, 파생변수, 평균값"
   ]
  },
  {
   "cell_type": "code",
   "execution_count": 78,
   "metadata": {},
   "outputs": [],
   "source": [
    "import pandas as pd\n",
    "df = pd.read_csv(\"https://raw.githubusercontent.com/lovedlim/bigdata_analyst_cert/main/part1/ch3/type1_data1.csv\")"
   ]
  },
  {
   "cell_type": "code",
   "execution_count": 86,
   "metadata": {},
   "outputs": [
    {
     "data": {
      "text/plain": [
       "0.61"
      ]
     },
     "execution_count": 86,
     "metadata": {},
     "output_type": "execute_result"
    }
   ],
   "source": [
    "# 1. 'f4' 컬럼 데이터에 'FJ'가 포함된 데이터 찾기\n",
    "df[df['f4'].str.contains('FJ')]\n",
    "# 2. 찾은 데이터 중 f2 컬럼의 평균값 구하기 반올림 후 소수 둘째 자리리 \n",
    "round(df[df['f4'].str.contains('FJ')]['f2'].mean(),2)"
   ]
  },
  {
   "cell_type": "markdown",
   "metadata": {},
   "source": [
    "#### 필터링, 분산"
   ]
  },
  {
   "cell_type": "code",
   "execution_count": 88,
   "metadata": {},
   "outputs": [
    {
     "name": "stdout",
     "output_type": "stream",
     "text": [
      "<class 'pandas.core.frame.DataFrame'>\n",
      "RangeIndex: 120 entries, 0 to 119\n",
      "Data columns (total 10 columns):\n",
      " #   Column      Non-Null Count  Dtype  \n",
      "---  ------      --------------  -----  \n",
      " 0   id          120 non-null    object \n",
      " 1   age         120 non-null    float64\n",
      " 2   city        120 non-null    object \n",
      " 3   f1          89 non-null     float64\n",
      " 4   f2          120 non-null    int64  \n",
      " 5   f3          91 non-null     object \n",
      " 6   f4          120 non-null    object \n",
      " 7   f5          120 non-null    float64\n",
      " 8   subscribed  120 non-null    object \n",
      " 9   views       116 non-null    float64\n",
      "dtypes: float64(4), int64(1), object(5)\n",
      "memory usage: 9.5+ KB\n"
     ]
    }
   ],
   "source": [
    "df.info()"
   ]
  },
  {
   "cell_type": "code",
   "execution_count": 97,
   "metadata": {},
   "outputs": [
    {
     "data": {
      "text/plain": [
       "235.43"
      ]
     },
     "execution_count": 97,
     "metadata": {},
     "output_type": "execute_result"
    }
   ],
   "source": [
    "# 1. f3 컬럼이 gold면서 f2 컬럼이 2인 데이터 찾기\n",
    "df[(df['f3'] == 'gold') & (df['f2']==2)]\n",
    "# 2. 찾은 데이터에서 f1 컬럼의 분산을 구하기, 반올림 후 소수 둘째자리\n",
    "round(df[(df['f3'] == 'gold') & (df['f2']==2)]['f1'].var(), 2)"
   ]
  },
  {
   "cell_type": "markdown",
   "metadata": {},
   "source": [
    "#### 값 변경(연산), 필터링 절댓값(abs!!!!!!)"
   ]
  },
  {
   "cell_type": "code",
   "execution_count": 98,
   "metadata": {},
   "outputs": [],
   "source": [
    "# 1. 모든 나이에 1을 더하기\n",
    "# 2. 20대의 views 평균과 30대의 views 평균의 절댓값 차이. 소수점 둘째자리까지\n",
    "df['age'] = df['age']+1"
   ]
  },
  {
   "cell_type": "code",
   "execution_count": 103,
   "metadata": {},
   "outputs": [
    {
     "data": {
      "text/plain": [
       "263.13"
      ]
     },
     "execution_count": 103,
     "metadata": {},
     "output_type": "execute_result"
    }
   ],
   "source": [
    "round(abs(df[(df['age'] >= 20) & (df['age'] < 30)]['views'].mean() - df[(df['age'] >= 30) & (df['age'] < 40)]['views'].mean()), 2)"
   ]
  },
  {
   "cell_type": "markdown",
   "metadata": {},
   "source": [
    "#### 시계열 데이터, 필터링, 데이터 개수"
   ]
  },
  {
   "cell_type": "code",
   "execution_count": null,
   "metadata": {},
   "outputs": [],
   "source": []
  }
 ],
 "metadata": {
  "kernelspec": {
   "display_name": "base",
   "language": "python",
   "name": "python3"
  },
  "language_info": {
   "codemirror_mode": {
    "name": "ipython",
    "version": 3
   },
   "file_extension": ".py",
   "mimetype": "text/x-python",
   "name": "python",
   "nbconvert_exporter": "python",
   "pygments_lexer": "ipython3",
   "version": "3.8.11"
  }
 },
 "nbformat": 4,
 "nbformat_minor": 2
}
