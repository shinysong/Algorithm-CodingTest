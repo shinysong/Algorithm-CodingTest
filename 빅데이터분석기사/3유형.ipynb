{
 "cells": [
  {
   "cell_type": "markdown",
   "metadata": {},
   "source": [
    "# 3유형"
   ]
  },
  {
   "cell_type": "markdown",
   "metadata": {},
   "source": [
    "### 퇴근후딴짓 풀이\n",
    "- https://www.youtube.com/watch?v=9mcnKbCbchk&t=2720s"
   ]
  },
  {
   "cell_type": "code",
   "execution_count": null,
   "metadata": {
    "vscode": {
     "languageId": "plaintext"
    }
   },
   "outputs": [],
   "source": [
    "# 출력을 원할 경우 print() 함수 활용\n",
    "# 예시) print(df.head())\n",
    "\n",
    "# getcwd(), chdir() 등 작업 폴더 설정 불필요\n",
    "# 파일 경로 상 내부 드라이브 경로(C: 등) 접근 불가\n",
    "\n",
    "import pandas as pd\n",
    "\n",
    "df = pd.read_csv(\"data/bcc.csv\")\n",
    "\n",
    "# 사용자 코딩\n",
    "\n",
    "import numpy as np\n",
    "df['Resistin'] = np.log(df['Resistin'])\n",
    "\n",
    "cond1 = df['Classification'] == 1\n",
    "cond2 = df['Classification'] == 2\n",
    "\n",
    "print(df[cond1]['Resistin'].var())\n",
    "print(df[cond2]['Resistin'].var())\n",
    "\n",
    "var1 = df[cond1]['Resistin'].var()\n",
    "var2 = df[cond2]['Resistin'].var()\n",
    "# 분자의 자유도가 분모의 자유도 샘플수-1이므로 갯수를 확인\n",
    "# F-검정은 분산의 차이를 비교하는 것으로, 검정통계량을 확인. 이때 검정통계량 F비는 변수 1의 분산 / 변주 2의 분산으로 계산됨\n",
    "\n",
    "print(len(df[cond1]), len(df[cond2])) # 환자 즉 cond2가 분자가 됨\n",
    "# 해당 화면에서는 제출하지 않으며, 문제 풀이 후 답안제출에서 결괏값 제출\n",
    "print(round((var2/var1), 3))\n",
    "\n",
    "# 2번. 합동 분산 추정량. 합칠때 가중 평균...\n",
    "# ((자유도1 * 분산1) + (자유도2 * 분산2)) / 자유도1+자유도2\n",
    "n1 = sum(cond1) # len(df['cond1'])과 같음\n",
    "n2 = sum(cond2) # len(df['cond2'])와 같음\n",
    "print(n1, n2)\n",
    "\n",
    "result2 = (((n1-1) * var1) + ((n2-1) * var2)) / ((n1-1)+(n2-1))\n",
    "print(round(result2,3))\n",
    "\n",
    "# 3번 독립표본 t검정을 수행하고 p값을 구하여라\n",
    "\n",
    "from scipy import stats\n",
    "result3 = stats.ttest_ind(df[cond1]['Resistin'], df[cond2]['Resistin'], equal_var=True) #독립표본 t검정을 수행하는 함수\n",
    "print(result3)"
   ]
  }
 ],
 "metadata": {
  "language_info": {
   "name": "python"
  }
 },
 "nbformat": 4,
 "nbformat_minor": 2
}
